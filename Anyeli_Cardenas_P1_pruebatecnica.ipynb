{
  "cells": [
    {
      "cell_type": "markdown",
      "source": [
        "# Resumen del trabajo realizado\n",
        "\n",
        "**Errores o datos faltantes encontrados:**\n",
        "1. Se encontraron 14 columnas que eran 100% nulas para todos los registros\n",
        "2. Se encontraron 238 registros que tienen más del 10% de sus columnas en valores nulos\n",
        "3. Se encontraron dos claves(PK) repetidas/duplicadas con distintos registros\n",
        "4. Se encontró 1 registro nulo en la columna \"fecha de nacimiento/fecnaca\" de 431 registros   \n",
        "5. Se encontraron 419 datos faltantes para la columna 'fechbaja'\n",
        "6. Se encontró 1 registro con números en la columna \"pedi\"\n",
        "7. Se encontró 1 registro con números en la columna \"ocupap\"\n",
        "8. Se econtraron 2 estudiantes con el mismo padre&madre (herman@s) donde 1 de los dos registros del padre no cuenta con el email\n",
        "9. Se encotraron números telefonicos de los padres en formato cientificos\n",
        "10. Se encontraron errores de escritura en la columna de nacionalidad y en la columna de pobla.\n",
        "11. Se encontraron errores de I mayuscula e i minuscula, asi como algunos caracteres erroneos suelen ser producto de una mala lectura por parte de un Optical character recognition (OCR).\n",
        "\n",
        "\n",
        "**Decisiones tomadas:**\n",
        "1. Se eliminaron las columnas que no tenian ni un solo valor que no fuera null en el dataframe (columnas: \"codigo\", \"transporta\", \"apellido\"...)\n",
        "2. Se eliminaron las columnas como edad, capturado y grupo con un solo valor único que no proporcionaba información relevante\n",
        "3. Se asignó una clave única no existente 3993\n",
        "4. Se convirtió el único registros que no cumplia el formato de fecha  en la columna fecnaca para convertirlo a NaT\n",
        "5. Se convirtieron todos los registros que no cumplian el formato de fecha para convertirlos a NaT\n",
        "6. Se eliminaron las columnas originales de fechas debido a que era una copia sucia de las nuevas columnas agregadas\n",
        "7. Se convirtió a null el único registro de fecha que era mayor a 2024\n",
        "8. Se transformó un dígito dentro del texto de la columna 'pedi' en información más coherente\n",
        "9. Se transformó un dígito dentro del texto de la columna 'ocupap' en información más coherente\n",
        "10. Se rellenó los valores de emailp basado en otros registros que tengan emailp de estudiantes con la misma madre\n",
        "11.  Se filtraron y limpiaron numeros telefonicos de la madre:\n",
        "    * 364 registros de celulares de las madres de Mexico son validos\n",
        "    * 7 numeros posibles del extranjero\n",
        "    * 5 numeros eran invalidos\n",
        "    * El resto son nulos\n",
        "12. Se filtraron y limpiaron numeros telefonicos del padre:\n",
        "    * 329 registros de celulares de los padres de Mexico son validos\n",
        "    *  6 numeros de telefonos de padres que pueden provenir del extranjero, de otro codigo de area en mexico\n",
        "    * 4 no ran válidos\n",
        "    * El resto son nulos\n",
        "13. Se filtró y limpió 378 numeros telefonicos validos de estudiantes, el resto pertencen posiblemente a numeros de casas y otrso son inválidos\n",
        "14. Se estandarizó todas las columnas de texto a minúsculas excepto la columna de 'sexo'\n",
        "15. Se creó una columna de 'edad' creada a partir de la fecha de nacimiento y la fecha actual\n",
        "16. Se limpió los caracteres inoportunos dentro de la columna 'pedi'\n",
        "17. Se limpió los errores de transcripción en la columna 'pobla'\n",
        "\n",
        "**Analisis realizado:**\n",
        "1. Análisis sobre columnas con datos faltantes (apellidos, matricula, ...)\n",
        "2. Porcentaje de valores nulos por columna\n",
        "3. Error de concurrencia/race conditions a la hora de incluir la clave\n",
        "4. Se analizó los maximos y minimos de las columnas fechas para encontrar incongruencias en las mismas\n",
        "5. Se encontraron registros en la columna empresa **totalmente** numericos\n",
        "6. Se verificó que los email de los padres fueran válidos:\n",
        "    * 225 pasaron el filtrado\n",
        "    * 206 no pasaron\n",
        "    * 50 emails fueron corregidos\n",
        "    * Quedaron 2 emails invalidos despues del proceso de limpieza y filtrado\n",
        "    * El resto eran nulos\n",
        "7. Se verificó que los email de las madres fueran válidos:\n",
        "    * 286 pasaron el filtrado\n",
        "    * 145 no pasaron\n",
        "    * 48 tenian errores de escritura\n",
        "    * 44 emails fueron corregidos\n",
        "    * Quedaron 4 NO VALIDOS ya que no tienen la suficiente informacion o validez\n",
        "    * El resto eran nulos.\n",
        "8. Se supuso que las madres normalmente son las que llenan el formulario de los niños en el colegio ya que tienen pocos correos faltantes a comparación de los padres\n",
        "9. Se realizó un análisis de la columna grado, donde:\n",
        "  * Grado 0 el que menos estudiantes tiene asignado (aproximadamente un 4,2%)\n",
        "  * Grado 3 con el mayor numero de estudiantes (aproximadamente un 26,5%)\n",
        "10. Se realizó un análisis de nacionalidad, donde:\n",
        "  * Aproximadamente el 99.1% son estudiantes mexicanos\n",
        "  * Aproximadamente el 0.23% pertence a la poblacion china.\n",
        "  Siendo el caso atípico nacionalidad china\n",
        "11. Se realizó un análisis de la columna pobla, donde:\n",
        "  * La gran mayoria de estudiantes, aproximadamente el 61% vienen de texcoco\n",
        "  * El porcentaje de otras direcciones es muy bajo en comparacion (siendo el segundo CHICONCUAC con casi 11%)\n",
        "12. Se realizó un análisis de género, donde:\n",
        "  * El porcentaje tanto de niñas como varones es muy similar, siendo el género masculino aproximadamente un 3% mas que el genero femenino\n",
        "13. Se realizó un análisis en la columna escpro donde se encontró que COLEGIO1 es la clase predominante en los datos con mas del 78%\n",
        "14. Se realizó un análisis sobre la edad de los estudiantes del colegio.\n",
        "  * Hay 4 casos atípicos como estudiantes de 2,3,17,23.\n",
        "  Se puede deber a errores de trasncripción, o en las edades mas altas, estudiantes que:\n",
        "  * 1- Se ha atrasado mucho en la colegiatura\n",
        "  * 2- Es un dato de un estudiante 'graduado' que nunca actualizaron\n",
        "  * 3- Un error de escritura/transcripcion\n",
        "15. Se realizó una matriz de correlación que dió positiva en edad-nivel con (0.84). Lo que significa que a medida que edad aumenta, nivel tiende también a aumentar.\n"
      ],
      "metadata": {
        "id": "Azgl0RQ_eXex"
      }
    },
    {
      "cell_type": "markdown",
      "source": [
        "#1-Cargar y explorar los datos"
      ],
      "metadata": {
        "id": "sA5uCbGX4i4A"
      }
    },
    {
      "cell_type": "markdown",
      "metadata": {
        "id": "Yx4wHF15U4Ya"
      },
      "source": [
        "Se importan varias librerias de visualizacion, manejo de fechas, tiempo, calculos matematicos y pandas, el cual es una libreria de python que nos permitira manipular archivos de excel o CSVs como objetos de tipo data frames"
      ]
    },
    {
      "cell_type": "code",
      "execution_count": 145,
      "metadata": {
        "id": "auzAboXZf44x"
      },
      "outputs": [],
      "source": [
        "import pandas as pd\n",
        "import numpy as np\n",
        "import matplotlib.pyplot as plt\n",
        "import seaborn as sns\n",
        "from datetime import datetime, date"
      ]
    },
    {
      "cell_type": "markdown",
      "metadata": {
        "id": "T2owlGw8wb8K"
      },
      "source": [
        "Al momento de importar el archivo se tiene que usar un enconding distinto a ***utf8*** si no arroja un error, en este caso **latin-1** funciona"
      ]
    },
    {
      "cell_type": "code",
      "execution_count": 146,
      "metadata": {
        "id": "oqYyCBywgMLo"
      },
      "outputs": [],
      "source": [
        "df = pd.read_csv(\"Datos_alumnos_y_Padres.csv\", encoding='latin-1')"
      ]
    },
    {
      "cell_type": "markdown",
      "source": [
        "El numero de filas inicial en el dataframe (sin modificaciones, transformaciones y otros...)"
      ],
      "metadata": {
        "id": "ZB2OFWSlZFln"
      }
    },
    {
      "cell_type": "code",
      "execution_count": 147,
      "metadata": {
        "id": "nFR5duwFgsZX",
        "colab": {
          "base_uri": "https://localhost:8080/"
        },
        "outputId": "3f0f9480-9a9c-445b-c6b7-46383092c803"
      },
      "outputs": [
        {
          "output_type": "execute_result",
          "data": {
            "text/plain": [
              "431"
            ]
          },
          "metadata": {},
          "execution_count": 147
        }
      ],
      "source": [
        "df.shape[0]"
      ]
    },
    {
      "cell_type": "markdown",
      "source": [
        "El numero de columnas inicial en el dataframe (sin modificaciones, transformaciones y otros...)"
      ],
      "metadata": {
        "id": "NeEXJ2XoZOE3"
      }
    },
    {
      "cell_type": "code",
      "source": [
        "df.shape[1]"
      ],
      "metadata": {
        "id": "uho0oVMTZT5o",
        "colab": {
          "base_uri": "https://localhost:8080/"
        },
        "outputId": "d1f69f18-120c-4eab-e2d8-36d7de0b8d41"
      },
      "execution_count": 148,
      "outputs": [
        {
          "output_type": "execute_result",
          "data": {
            "text/plain": [
              "52"
            ]
          },
          "metadata": {},
          "execution_count": 148
        }
      ]
    },
    {
      "cell_type": "markdown",
      "source": [
        "Se observan las siguientes columnas en el dataframe inicial"
      ],
      "metadata": {
        "id": "lhUkF5ZKZVPm"
      }
    },
    {
      "cell_type": "code",
      "execution_count": 149,
      "metadata": {
        "id": "Uz8twCIzg6Xd",
        "collapsed": true,
        "colab": {
          "base_uri": "https://localhost:8080/"
        },
        "outputId": "61f11968-7bbd-49fa-a0db-9ad30ad7754c"
      },
      "outputs": [
        {
          "output_type": "execute_result",
          "data": {
            "text/plain": [
              "['clave',\n",
              " 'digito',\n",
              " 'digban',\n",
              " 'nombrea',\n",
              " 'sexo',\n",
              " 'domal',\n",
              " 'coloa',\n",
              " 'pobla',\n",
              " 'cpa',\n",
              " 'fecnaca',\n",
              " 'naciona',\n",
              " 'tela',\n",
              " 'nivel',\n",
              " 'grado',\n",
              " 'grupo',\n",
              " 'escpro',\n",
              " 'porcol',\n",
              " 'porins',\n",
              " 'codigo',\n",
              " 'madre',\n",
              " 'ocupam',\n",
              " 'emprem',\n",
              " 'celularm',\n",
              " 'telofm',\n",
              " 'emailm',\n",
              " 'padre',\n",
              " 'ocupap',\n",
              " 'emprep',\n",
              " 'celularp',\n",
              " 'telofp',\n",
              " 'emailp',\n",
              " 'pedi',\n",
              " 'telpedi',\n",
              " 'transporta',\n",
              " 'factura',\n",
              " 'factura1',\n",
              " 'ciclo',\n",
              " 'fechains',\n",
              " 'fechbaja',\n",
              " 'plan',\n",
              " 'apellidos',\n",
              " 'apellidop',\n",
              " 'apellidom',\n",
              " 'nombres',\n",
              " 'snombre',\n",
              " 'matricula',\n",
              " 'nombrecort',\n",
              " 'credito',\n",
              " 'cuenta',\n",
              " 'inscribe',\n",
              " 'edad',\n",
              " 'capturado']"
            ]
          },
          "metadata": {},
          "execution_count": 149
        }
      ],
      "source": [
        "list(df.columns)"
      ]
    },
    {
      "cell_type": "markdown",
      "source": [
        "Se procede a hacer una inspeccion rápida que puede arrojar informacion util sobre las columnas y los valores de los registros, tales como conteos, percentiles, maximos, minimos, desviacion estandar, entre otros..."
      ],
      "metadata": {
        "id": "r-HGdr4HZZ8D"
      }
    },
    {
      "cell_type": "code",
      "execution_count": 150,
      "metadata": {
        "id": "ntkbuvoahIX0",
        "collapsed": true,
        "colab": {
          "base_uri": "https://localhost:8080/",
          "height": 349
        },
        "outputId": "810327ba-a705-4503-b74a-ea29f42c6d30"
      },
      "outputs": [
        {
          "output_type": "execute_result",
          "data": {
            "text/plain": [
              "             clave      digito      digban           cpa       nivel  \\\n",
              "count   431.000000  431.000000  431.000000    417.000000  431.000000   \n",
              "mean   3593.941995    0.013921   52.638051  55429.556355    1.104408   \n",
              "std     308.836005    0.245501   27.952931   5824.855395    0.689290   \n",
              "min    2632.000000    0.000000    3.000000   5611.000000    0.000000   \n",
              "25%    3404.500000    0.000000   28.500000  56120.000000    1.000000   \n",
              "50%    3666.000000    0.000000   54.000000  56213.000000    1.000000   \n",
              "75%    3852.500000    0.000000   77.000000  56255.000000    2.000000   \n",
              "max    3992.000000    5.000000   99.000000  57000.000000    2.000000   \n",
              "\n",
              "            grado      porcol      porins  codigo      celularp  ...  \\\n",
              "count  431.000000  431.000000  431.000000     0.0  3.350000e+02  ...   \n",
              "mean     2.765661   93.900232   80.668213     NaN  5.574030e+09  ...   \n",
              "std      1.634890   22.532391   66.705802     NaN  6.977634e+08  ...   \n",
              "min      0.000000    0.000000    0.000000     NaN  5.514298e+08  ...   \n",
              "25%      1.000000  100.000000   75.000000     NaN  5.530614e+09  ...   \n",
              "50%      3.000000  100.000000   75.000000     NaN  5.545257e+09  ...   \n",
              "75%      4.000000  100.000000   75.000000     NaN  5.579884e+09  ...   \n",
              "max      6.000000  100.000000  751.000000     NaN  9.361062e+09  ...   \n",
              "\n",
              "       apellidop  apellidom  nombres  snombre  matricula  nombrecort  credito  \\\n",
              "count        0.0        0.0      0.0      0.0        0.0         0.0      0.0   \n",
              "mean         NaN        NaN      NaN      NaN        NaN         NaN      NaN   \n",
              "std          NaN        NaN      NaN      NaN        NaN         NaN      NaN   \n",
              "min          NaN        NaN      NaN      NaN        NaN         NaN      NaN   \n",
              "25%          NaN        NaN      NaN      NaN        NaN         NaN      NaN   \n",
              "50%          NaN        NaN      NaN      NaN        NaN         NaN      NaN   \n",
              "75%          NaN        NaN      NaN      NaN        NaN         NaN      NaN   \n",
              "max          NaN        NaN      NaN      NaN        NaN         NaN      NaN   \n",
              "\n",
              "       cuenta  inscribe   edad  \n",
              "count     0.0       0.0  431.0  \n",
              "mean      NaN       NaN    0.0  \n",
              "std       NaN       NaN    0.0  \n",
              "min       NaN       NaN    0.0  \n",
              "25%       NaN       NaN    0.0  \n",
              "50%       NaN       NaN    0.0  \n",
              "75%       NaN       NaN    0.0  \n",
              "max       NaN       NaN    0.0  \n",
              "\n",
              "[8 rows x 24 columns]"
            ],
            "text/html": [
              "\n",
              "  <div id=\"df-8bb7691d-63bf-40bb-8bed-32de0a77faae\" class=\"colab-df-container\">\n",
              "    <div>\n",
              "<style scoped>\n",
              "    .dataframe tbody tr th:only-of-type {\n",
              "        vertical-align: middle;\n",
              "    }\n",
              "\n",
              "    .dataframe tbody tr th {\n",
              "        vertical-align: top;\n",
              "    }\n",
              "\n",
              "    .dataframe thead th {\n",
              "        text-align: right;\n",
              "    }\n",
              "</style>\n",
              "<table border=\"1\" class=\"dataframe\">\n",
              "  <thead>\n",
              "    <tr style=\"text-align: right;\">\n",
              "      <th></th>\n",
              "      <th>clave</th>\n",
              "      <th>digito</th>\n",
              "      <th>digban</th>\n",
              "      <th>cpa</th>\n",
              "      <th>nivel</th>\n",
              "      <th>grado</th>\n",
              "      <th>porcol</th>\n",
              "      <th>porins</th>\n",
              "      <th>codigo</th>\n",
              "      <th>celularp</th>\n",
              "      <th>...</th>\n",
              "      <th>apellidop</th>\n",
              "      <th>apellidom</th>\n",
              "      <th>nombres</th>\n",
              "      <th>snombre</th>\n",
              "      <th>matricula</th>\n",
              "      <th>nombrecort</th>\n",
              "      <th>credito</th>\n",
              "      <th>cuenta</th>\n",
              "      <th>inscribe</th>\n",
              "      <th>edad</th>\n",
              "    </tr>\n",
              "  </thead>\n",
              "  <tbody>\n",
              "    <tr>\n",
              "      <th>count</th>\n",
              "      <td>431.000000</td>\n",
              "      <td>431.000000</td>\n",
              "      <td>431.000000</td>\n",
              "      <td>417.000000</td>\n",
              "      <td>431.000000</td>\n",
              "      <td>431.000000</td>\n",
              "      <td>431.000000</td>\n",
              "      <td>431.000000</td>\n",
              "      <td>0.0</td>\n",
              "      <td>3.350000e+02</td>\n",
              "      <td>...</td>\n",
              "      <td>0.0</td>\n",
              "      <td>0.0</td>\n",
              "      <td>0.0</td>\n",
              "      <td>0.0</td>\n",
              "      <td>0.0</td>\n",
              "      <td>0.0</td>\n",
              "      <td>0.0</td>\n",
              "      <td>0.0</td>\n",
              "      <td>0.0</td>\n",
              "      <td>431.0</td>\n",
              "    </tr>\n",
              "    <tr>\n",
              "      <th>mean</th>\n",
              "      <td>3593.941995</td>\n",
              "      <td>0.013921</td>\n",
              "      <td>52.638051</td>\n",
              "      <td>55429.556355</td>\n",
              "      <td>1.104408</td>\n",
              "      <td>2.765661</td>\n",
              "      <td>93.900232</td>\n",
              "      <td>80.668213</td>\n",
              "      <td>NaN</td>\n",
              "      <td>5.574030e+09</td>\n",
              "      <td>...</td>\n",
              "      <td>NaN</td>\n",
              "      <td>NaN</td>\n",
              "      <td>NaN</td>\n",
              "      <td>NaN</td>\n",
              "      <td>NaN</td>\n",
              "      <td>NaN</td>\n",
              "      <td>NaN</td>\n",
              "      <td>NaN</td>\n",
              "      <td>NaN</td>\n",
              "      <td>0.0</td>\n",
              "    </tr>\n",
              "    <tr>\n",
              "      <th>std</th>\n",
              "      <td>308.836005</td>\n",
              "      <td>0.245501</td>\n",
              "      <td>27.952931</td>\n",
              "      <td>5824.855395</td>\n",
              "      <td>0.689290</td>\n",
              "      <td>1.634890</td>\n",
              "      <td>22.532391</td>\n",
              "      <td>66.705802</td>\n",
              "      <td>NaN</td>\n",
              "      <td>6.977634e+08</td>\n",
              "      <td>...</td>\n",
              "      <td>NaN</td>\n",
              "      <td>NaN</td>\n",
              "      <td>NaN</td>\n",
              "      <td>NaN</td>\n",
              "      <td>NaN</td>\n",
              "      <td>NaN</td>\n",
              "      <td>NaN</td>\n",
              "      <td>NaN</td>\n",
              "      <td>NaN</td>\n",
              "      <td>0.0</td>\n",
              "    </tr>\n",
              "    <tr>\n",
              "      <th>min</th>\n",
              "      <td>2632.000000</td>\n",
              "      <td>0.000000</td>\n",
              "      <td>3.000000</td>\n",
              "      <td>5611.000000</td>\n",
              "      <td>0.000000</td>\n",
              "      <td>0.000000</td>\n",
              "      <td>0.000000</td>\n",
              "      <td>0.000000</td>\n",
              "      <td>NaN</td>\n",
              "      <td>5.514298e+08</td>\n",
              "      <td>...</td>\n",
              "      <td>NaN</td>\n",
              "      <td>NaN</td>\n",
              "      <td>NaN</td>\n",
              "      <td>NaN</td>\n",
              "      <td>NaN</td>\n",
              "      <td>NaN</td>\n",
              "      <td>NaN</td>\n",
              "      <td>NaN</td>\n",
              "      <td>NaN</td>\n",
              "      <td>0.0</td>\n",
              "    </tr>\n",
              "    <tr>\n",
              "      <th>25%</th>\n",
              "      <td>3404.500000</td>\n",
              "      <td>0.000000</td>\n",
              "      <td>28.500000</td>\n",
              "      <td>56120.000000</td>\n",
              "      <td>1.000000</td>\n",
              "      <td>1.000000</td>\n",
              "      <td>100.000000</td>\n",
              "      <td>75.000000</td>\n",
              "      <td>NaN</td>\n",
              "      <td>5.530614e+09</td>\n",
              "      <td>...</td>\n",
              "      <td>NaN</td>\n",
              "      <td>NaN</td>\n",
              "      <td>NaN</td>\n",
              "      <td>NaN</td>\n",
              "      <td>NaN</td>\n",
              "      <td>NaN</td>\n",
              "      <td>NaN</td>\n",
              "      <td>NaN</td>\n",
              "      <td>NaN</td>\n",
              "      <td>0.0</td>\n",
              "    </tr>\n",
              "    <tr>\n",
              "      <th>50%</th>\n",
              "      <td>3666.000000</td>\n",
              "      <td>0.000000</td>\n",
              "      <td>54.000000</td>\n",
              "      <td>56213.000000</td>\n",
              "      <td>1.000000</td>\n",
              "      <td>3.000000</td>\n",
              "      <td>100.000000</td>\n",
              "      <td>75.000000</td>\n",
              "      <td>NaN</td>\n",
              "      <td>5.545257e+09</td>\n",
              "      <td>...</td>\n",
              "      <td>NaN</td>\n",
              "      <td>NaN</td>\n",
              "      <td>NaN</td>\n",
              "      <td>NaN</td>\n",
              "      <td>NaN</td>\n",
              "      <td>NaN</td>\n",
              "      <td>NaN</td>\n",
              "      <td>NaN</td>\n",
              "      <td>NaN</td>\n",
              "      <td>0.0</td>\n",
              "    </tr>\n",
              "    <tr>\n",
              "      <th>75%</th>\n",
              "      <td>3852.500000</td>\n",
              "      <td>0.000000</td>\n",
              "      <td>77.000000</td>\n",
              "      <td>56255.000000</td>\n",
              "      <td>2.000000</td>\n",
              "      <td>4.000000</td>\n",
              "      <td>100.000000</td>\n",
              "      <td>75.000000</td>\n",
              "      <td>NaN</td>\n",
              "      <td>5.579884e+09</td>\n",
              "      <td>...</td>\n",
              "      <td>NaN</td>\n",
              "      <td>NaN</td>\n",
              "      <td>NaN</td>\n",
              "      <td>NaN</td>\n",
              "      <td>NaN</td>\n",
              "      <td>NaN</td>\n",
              "      <td>NaN</td>\n",
              "      <td>NaN</td>\n",
              "      <td>NaN</td>\n",
              "      <td>0.0</td>\n",
              "    </tr>\n",
              "    <tr>\n",
              "      <th>max</th>\n",
              "      <td>3992.000000</td>\n",
              "      <td>5.000000</td>\n",
              "      <td>99.000000</td>\n",
              "      <td>57000.000000</td>\n",
              "      <td>2.000000</td>\n",
              "      <td>6.000000</td>\n",
              "      <td>100.000000</td>\n",
              "      <td>751.000000</td>\n",
              "      <td>NaN</td>\n",
              "      <td>9.361062e+09</td>\n",
              "      <td>...</td>\n",
              "      <td>NaN</td>\n",
              "      <td>NaN</td>\n",
              "      <td>NaN</td>\n",
              "      <td>NaN</td>\n",
              "      <td>NaN</td>\n",
              "      <td>NaN</td>\n",
              "      <td>NaN</td>\n",
              "      <td>NaN</td>\n",
              "      <td>NaN</td>\n",
              "      <td>0.0</td>\n",
              "    </tr>\n",
              "  </tbody>\n",
              "</table>\n",
              "<p>8 rows × 24 columns</p>\n",
              "</div>\n",
              "    <div class=\"colab-df-buttons\">\n",
              "\n",
              "  <div class=\"colab-df-container\">\n",
              "    <button class=\"colab-df-convert\" onclick=\"convertToInteractive('df-8bb7691d-63bf-40bb-8bed-32de0a77faae')\"\n",
              "            title=\"Convert this dataframe to an interactive table.\"\n",
              "            style=\"display:none;\">\n",
              "\n",
              "  <svg xmlns=\"http://www.w3.org/2000/svg\" height=\"24px\" viewBox=\"0 -960 960 960\">\n",
              "    <path d=\"M120-120v-720h720v720H120Zm60-500h600v-160H180v160Zm220 220h160v-160H400v160Zm0 220h160v-160H400v160ZM180-400h160v-160H180v160Zm440 0h160v-160H620v160ZM180-180h160v-160H180v160Zm440 0h160v-160H620v160Z\"/>\n",
              "  </svg>\n",
              "    </button>\n",
              "\n",
              "  <style>\n",
              "    .colab-df-container {\n",
              "      display:flex;\n",
              "      gap: 12px;\n",
              "    }\n",
              "\n",
              "    .colab-df-convert {\n",
              "      background-color: #E8F0FE;\n",
              "      border: none;\n",
              "      border-radius: 50%;\n",
              "      cursor: pointer;\n",
              "      display: none;\n",
              "      fill: #1967D2;\n",
              "      height: 32px;\n",
              "      padding: 0 0 0 0;\n",
              "      width: 32px;\n",
              "    }\n",
              "\n",
              "    .colab-df-convert:hover {\n",
              "      background-color: #E2EBFA;\n",
              "      box-shadow: 0px 1px 2px rgba(60, 64, 67, 0.3), 0px 1px 3px 1px rgba(60, 64, 67, 0.15);\n",
              "      fill: #174EA6;\n",
              "    }\n",
              "\n",
              "    .colab-df-buttons div {\n",
              "      margin-bottom: 4px;\n",
              "    }\n",
              "\n",
              "    [theme=dark] .colab-df-convert {\n",
              "      background-color: #3B4455;\n",
              "      fill: #D2E3FC;\n",
              "    }\n",
              "\n",
              "    [theme=dark] .colab-df-convert:hover {\n",
              "      background-color: #434B5C;\n",
              "      box-shadow: 0px 1px 3px 1px rgba(0, 0, 0, 0.15);\n",
              "      filter: drop-shadow(0px 1px 2px rgba(0, 0, 0, 0.3));\n",
              "      fill: #FFFFFF;\n",
              "    }\n",
              "  </style>\n",
              "\n",
              "    <script>\n",
              "      const buttonEl =\n",
              "        document.querySelector('#df-8bb7691d-63bf-40bb-8bed-32de0a77faae button.colab-df-convert');\n",
              "      buttonEl.style.display =\n",
              "        google.colab.kernel.accessAllowed ? 'block' : 'none';\n",
              "\n",
              "      async function convertToInteractive(key) {\n",
              "        const element = document.querySelector('#df-8bb7691d-63bf-40bb-8bed-32de0a77faae');\n",
              "        const dataTable =\n",
              "          await google.colab.kernel.invokeFunction('convertToInteractive',\n",
              "                                                    [key], {});\n",
              "        if (!dataTable) return;\n",
              "\n",
              "        const docLinkHtml = 'Like what you see? Visit the ' +\n",
              "          '<a target=\"_blank\" href=https://colab.research.google.com/notebooks/data_table.ipynb>data table notebook</a>'\n",
              "          + ' to learn more about interactive tables.';\n",
              "        element.innerHTML = '';\n",
              "        dataTable['output_type'] = 'display_data';\n",
              "        await google.colab.output.renderOutput(dataTable, element);\n",
              "        const docLink = document.createElement('div');\n",
              "        docLink.innerHTML = docLinkHtml;\n",
              "        element.appendChild(docLink);\n",
              "      }\n",
              "    </script>\n",
              "  </div>\n",
              "\n",
              "\n",
              "<div id=\"df-f4d06f89-a9af-4747-8c0e-dd13f5724562\">\n",
              "  <button class=\"colab-df-quickchart\" onclick=\"quickchart('df-f4d06f89-a9af-4747-8c0e-dd13f5724562')\"\n",
              "            title=\"Suggest charts\"\n",
              "            style=\"display:none;\">\n",
              "\n",
              "<svg xmlns=\"http://www.w3.org/2000/svg\" height=\"24px\"viewBox=\"0 0 24 24\"\n",
              "     width=\"24px\">\n",
              "    <g>\n",
              "        <path d=\"M19 3H5c-1.1 0-2 .9-2 2v14c0 1.1.9 2 2 2h14c1.1 0 2-.9 2-2V5c0-1.1-.9-2-2-2zM9 17H7v-7h2v7zm4 0h-2V7h2v10zm4 0h-2v-4h2v4z\"/>\n",
              "    </g>\n",
              "</svg>\n",
              "  </button>\n",
              "\n",
              "<style>\n",
              "  .colab-df-quickchart {\n",
              "      --bg-color: #E8F0FE;\n",
              "      --fill-color: #1967D2;\n",
              "      --hover-bg-color: #E2EBFA;\n",
              "      --hover-fill-color: #174EA6;\n",
              "      --disabled-fill-color: #AAA;\n",
              "      --disabled-bg-color: #DDD;\n",
              "  }\n",
              "\n",
              "  [theme=dark] .colab-df-quickchart {\n",
              "      --bg-color: #3B4455;\n",
              "      --fill-color: #D2E3FC;\n",
              "      --hover-bg-color: #434B5C;\n",
              "      --hover-fill-color: #FFFFFF;\n",
              "      --disabled-bg-color: #3B4455;\n",
              "      --disabled-fill-color: #666;\n",
              "  }\n",
              "\n",
              "  .colab-df-quickchart {\n",
              "    background-color: var(--bg-color);\n",
              "    border: none;\n",
              "    border-radius: 50%;\n",
              "    cursor: pointer;\n",
              "    display: none;\n",
              "    fill: var(--fill-color);\n",
              "    height: 32px;\n",
              "    padding: 0;\n",
              "    width: 32px;\n",
              "  }\n",
              "\n",
              "  .colab-df-quickchart:hover {\n",
              "    background-color: var(--hover-bg-color);\n",
              "    box-shadow: 0 1px 2px rgba(60, 64, 67, 0.3), 0 1px 3px 1px rgba(60, 64, 67, 0.15);\n",
              "    fill: var(--button-hover-fill-color);\n",
              "  }\n",
              "\n",
              "  .colab-df-quickchart-complete:disabled,\n",
              "  .colab-df-quickchart-complete:disabled:hover {\n",
              "    background-color: var(--disabled-bg-color);\n",
              "    fill: var(--disabled-fill-color);\n",
              "    box-shadow: none;\n",
              "  }\n",
              "\n",
              "  .colab-df-spinner {\n",
              "    border: 2px solid var(--fill-color);\n",
              "    border-color: transparent;\n",
              "    border-bottom-color: var(--fill-color);\n",
              "    animation:\n",
              "      spin 1s steps(1) infinite;\n",
              "  }\n",
              "\n",
              "  @keyframes spin {\n",
              "    0% {\n",
              "      border-color: transparent;\n",
              "      border-bottom-color: var(--fill-color);\n",
              "      border-left-color: var(--fill-color);\n",
              "    }\n",
              "    20% {\n",
              "      border-color: transparent;\n",
              "      border-left-color: var(--fill-color);\n",
              "      border-top-color: var(--fill-color);\n",
              "    }\n",
              "    30% {\n",
              "      border-color: transparent;\n",
              "      border-left-color: var(--fill-color);\n",
              "      border-top-color: var(--fill-color);\n",
              "      border-right-color: var(--fill-color);\n",
              "    }\n",
              "    40% {\n",
              "      border-color: transparent;\n",
              "      border-right-color: var(--fill-color);\n",
              "      border-top-color: var(--fill-color);\n",
              "    }\n",
              "    60% {\n",
              "      border-color: transparent;\n",
              "      border-right-color: var(--fill-color);\n",
              "    }\n",
              "    80% {\n",
              "      border-color: transparent;\n",
              "      border-right-color: var(--fill-color);\n",
              "      border-bottom-color: var(--fill-color);\n",
              "    }\n",
              "    90% {\n",
              "      border-color: transparent;\n",
              "      border-bottom-color: var(--fill-color);\n",
              "    }\n",
              "  }\n",
              "</style>\n",
              "\n",
              "  <script>\n",
              "    async function quickchart(key) {\n",
              "      const quickchartButtonEl =\n",
              "        document.querySelector('#' + key + ' button');\n",
              "      quickchartButtonEl.disabled = true;  // To prevent multiple clicks.\n",
              "      quickchartButtonEl.classList.add('colab-df-spinner');\n",
              "      try {\n",
              "        const charts = await google.colab.kernel.invokeFunction(\n",
              "            'suggestCharts', [key], {});\n",
              "      } catch (error) {\n",
              "        console.error('Error during call to suggestCharts:', error);\n",
              "      }\n",
              "      quickchartButtonEl.classList.remove('colab-df-spinner');\n",
              "      quickchartButtonEl.classList.add('colab-df-quickchart-complete');\n",
              "    }\n",
              "    (() => {\n",
              "      let quickchartButtonEl =\n",
              "        document.querySelector('#df-f4d06f89-a9af-4747-8c0e-dd13f5724562 button');\n",
              "      quickchartButtonEl.style.display =\n",
              "        google.colab.kernel.accessAllowed ? 'block' : 'none';\n",
              "    })();\n",
              "  </script>\n",
              "</div>\n",
              "\n",
              "    </div>\n",
              "  </div>\n"
            ],
            "application/vnd.google.colaboratory.intrinsic+json": {
              "type": "dataframe"
            }
          },
          "metadata": {},
          "execution_count": 150
        }
      ],
      "source": [
        "df.describe()"
      ]
    },
    {
      "cell_type": "markdown",
      "source": [
        "Cabe destacar que las columnas con valores NO NUMERICOS no se muestran en este analisis numerico"
      ],
      "metadata": {
        "id": "5EZIgriRaCGr"
      }
    },
    {
      "cell_type": "markdown",
      "metadata": {
        "id": "2RGyLE3TVM-e"
      },
      "source": [
        "#2-Limpieza de datos"
      ]
    },
    {
      "cell_type": "markdown",
      "metadata": {
        "id": "oiZZ03xyhUck"
      },
      "source": [
        "## -Manejo de valores Faltantes\n",
        "\n"
      ]
    },
    {
      "cell_type": "markdown",
      "source": [
        "Primero voy a revisar cuantas filas tienen aunque sea un valor nulo, con esto me doy una idea de que tanta limpieza sera necesaria"
      ],
      "metadata": {
        "id": "sc6ldtjjaQNx"
      }
    },
    {
      "cell_type": "code",
      "execution_count": 151,
      "metadata": {
        "id": "gHHmFXfghLzk",
        "collapsed": true,
        "colab": {
          "base_uri": "https://localhost:8080/"
        },
        "outputId": "6d638fe1-4ea1-491f-e143-1c04dae681b5"
      },
      "outputs": [
        {
          "output_type": "execute_result",
          "data": {
            "text/plain": [
              "431"
            ]
          },
          "metadata": {},
          "execution_count": 151
        }
      ],
      "source": [
        "sum(df.isnull().any(axis=1))"
      ]
    },
    {
      "cell_type": "markdown",
      "source": [
        "Lastimosamente, todos los registros cuentan con al menos un nulo en sus columnas, esto podria indicar que hay una columna o muchas columnas con todos los valores nulos (columnas sin valor).\n",
        "\n",
        "Procedo a hacer la misma evaluacion pero a nivel de columnas, imprimo aquellas columnas que tienen por lo menos un nulo en sus valores"
      ],
      "metadata": {
        "id": "SxNKxfhJaenO"
      }
    },
    {
      "cell_type": "code",
      "execution_count": 152,
      "metadata": {
        "id": "0Z30Q3zlhkOy",
        "collapsed": true,
        "colab": {
          "base_uri": "https://localhost:8080/"
        },
        "outputId": "3db3f02e-2a8b-4709-c482-713848ec689b"
      },
      "outputs": [
        {
          "output_type": "execute_result",
          "data": {
            "text/plain": [
              "36"
            ]
          },
          "metadata": {},
          "execution_count": 152
        }
      ],
      "source": [
        "columnas_con_valores_nulos = df.columns[df.isna().any()].tolist()\n",
        "len(columnas_con_valores_nulos)"
      ]
    },
    {
      "cell_type": "markdown",
      "source": [
        "Procedo a revisar los nombres de esas 36 columnas que tienen aunque sea un nulo en sus valores"
      ],
      "metadata": {
        "id": "9koFD_B-cVEx"
      }
    },
    {
      "cell_type": "code",
      "source": [
        "columnas_con_valores_nulos"
      ],
      "metadata": {
        "id": "we-WwHkZcUoj",
        "colab": {
          "base_uri": "https://localhost:8080/"
        },
        "outputId": "7d6aab0f-73ed-4a76-86aa-2fcfbb465ddf"
      },
      "execution_count": 153,
      "outputs": [
        {
          "output_type": "execute_result",
          "data": {
            "text/plain": [
              "['domal',\n",
              " 'coloa',\n",
              " 'pobla',\n",
              " 'cpa',\n",
              " 'naciona',\n",
              " 'tela',\n",
              " 'escpro',\n",
              " 'codigo',\n",
              " 'madre',\n",
              " 'ocupam',\n",
              " 'emprem',\n",
              " 'celularm',\n",
              " 'telofm',\n",
              " 'emailm',\n",
              " 'padre',\n",
              " 'ocupap',\n",
              " 'emprep',\n",
              " 'celularp',\n",
              " 'telofp',\n",
              " 'emailp',\n",
              " 'pedi',\n",
              " 'telpedi',\n",
              " 'transporta',\n",
              " 'factura',\n",
              " 'factura1',\n",
              " 'ciclo',\n",
              " 'apellidos',\n",
              " 'apellidop',\n",
              " 'apellidom',\n",
              " 'nombres',\n",
              " 'snombre',\n",
              " 'matricula',\n",
              " 'nombrecort',\n",
              " 'credito',\n",
              " 'cuenta',\n",
              " 'inscribe']"
            ]
          },
          "metadata": {},
          "execution_count": 153
        }
      ]
    },
    {
      "cell_type": "markdown",
      "source": [
        "Se encontro que 36 columnas cuentan con al menos un nulo, lo que quiere decir que si son 52 columnas del df en total, deben haber 16 columnas cuyos valores estan completos para todos los registros"
      ],
      "metadata": {
        "id": "oe8DD3VibCW4"
      }
    },
    {
      "cell_type": "code",
      "execution_count": 154,
      "metadata": {
        "id": "2a_7Wlxfh5Bb",
        "collapsed": true,
        "colab": {
          "base_uri": "https://localhost:8080/"
        },
        "outputId": "91196275-ed9b-4915-aaa2-17d5d6f3d967"
      },
      "outputs": [
        {
          "output_type": "execute_result",
          "data": {
            "text/plain": [
              "domal           0.928074\n",
              "coloa           0.928074\n",
              "pobla           1.624130\n",
              "cpa             3.248260\n",
              "naciona         0.696056\n",
              "tela            7.424594\n",
              "escpro          3.248260\n",
              "codigo        100.000000\n",
              "madre           0.928074\n",
              "ocupam          3.016241\n",
              "emprem         27.610209\n",
              "celularm       13.689095\n",
              "telofm         60.092807\n",
              "emailm         21.809745\n",
              "padre           5.104408\n",
              "ocupap          6.728538\n",
              "emprep         25.986079\n",
              "celularp       22.273782\n",
              "telofp         51.740139\n",
              "emailp         35.730858\n",
              "pedi           18.329466\n",
              "telpedi        26.682135\n",
              "transporta    100.000000\n",
              "factura        95.127610\n",
              "factura1      100.000000\n",
              "ciclo         100.000000\n",
              "apellidos     100.000000\n",
              "apellidop     100.000000\n",
              "apellidom     100.000000\n",
              "nombres       100.000000\n",
              "snombre       100.000000\n",
              "matricula     100.000000\n",
              "nombrecort    100.000000\n",
              "credito       100.000000\n",
              "cuenta        100.000000\n",
              "inscribe      100.000000\n",
              "dtype: float64"
            ]
          },
          "metadata": {},
          "execution_count": 154
        }
      ],
      "source": [
        "df.loc[:, columnas_con_valores_nulos].isnull().mean() * 100"
      ]
    },
    {
      "cell_type": "markdown",
      "metadata": {
        "id": "wERnsnegi-3V"
      },
      "source": [
        "***1era Decision tomada:***\n",
        "\n",
        "Eliminare todas las columnas cuales tengan un porcentaje de 100% de valores nulos incluyendo factura, ya que el 96% de sus datos son nulos\n",
        "(se podría evaluar no quitarlo).\n",
        "\n",
        "***Explicacion:*** Decidi eliminar esas columnas ya que al tener todos sus valores en nulos, no aporta ninguna informacion real a los registros de alumnos. así que no veo relevantes mantenerlas en el data frame, en caso de necesitar esas columnas luego, procedere a crearlas."
      ]
    },
    {
      "cell_type": "code",
      "execution_count": 155,
      "metadata": {
        "id": "MeAEW634intj",
        "colab": {
          "base_uri": "https://localhost:8080/"
        },
        "outputId": "2ef08f66-3991-4614-e41f-077f976b567d"
      },
      "outputs": [
        {
          "output_type": "execute_result",
          "data": {
            "text/plain": [
              "14"
            ]
          },
          "metadata": {},
          "execution_count": 155
        }
      ],
      "source": [
        "lista_columnas_a_eliminar = [\"codigo\", \"factura1\", \"ciclo\", \"apellidos\", \"apellidop\", \"apellidom\", \"nombres\", \"snombre\", \"matricula\", \"nombrecort\", \"credito\", \"cuenta\", \"inscribe\", \"transporta\"]\n",
        "len(lista_columnas_a_eliminar)"
      ]
    },
    {
      "cell_type": "code",
      "execution_count": 156,
      "metadata": {
        "id": "K8trsM5mjyx7"
      },
      "outputs": [],
      "source": [
        "df = df.drop(lista_columnas_a_eliminar, axis=1)"
      ]
    },
    {
      "cell_type": "markdown",
      "metadata": {
        "id": "u9xHmaBgkHp4"
      },
      "source": [
        "### Estadisticas sobre valores faltantes:\n",
        "\n",
        "1.   (Punto 1 del resumen de Análisis) Número total de valores faltantes y el análisis del porqué están nulas:\n",
        "      > 14 de 52 columnas tienen el 100% de sus datos nulos.\n",
        "\n",
        "      > La columna de apellidos, apellidosp, apellidosm estan 100% nulas debido a que la columna nombre, appelidosm, apellidosp tiene el nombre completo del estudiante, de la madre y del padre\n",
        "\n",
        "      >las columnas como matricula, credito, cuenta, incribe, factura1 pueden estar nulas debido a que estan dentro de una tabla distinta llamada 'datos de pago'\n",
        "\n",
        "\n",
        "\n",
        "2.   (Punto 2 del resumen de análisis) Porcentaje de valores faltantes:\n",
        "      > domal tiene  0.93 % de datos nulos\n",
        "\n",
        "      > coloa           0.93% de datos nulos\n",
        "\n",
        "      > pobla           1.62% de datos nulos\n",
        "\n",
        "      > cpa             3.25% de datos nulos\n",
        "\n",
        "      > naciona         0.70% de datos nulos\n",
        "\n",
        "      >  tela            7.42% de datos nulos\n",
        "\n",
        "      >  escpro          3.25% de datos nulos\n",
        "\n",
        "      > madre           0.93% de datos nulos\n",
        "\n",
        "      >  ocupam          3.02% de datos nulos\n",
        "\n",
        "      > emprem         27.61% de datos nulos\n",
        "\n",
        "      > celularm       13.69% de datos nulos\n",
        "\n",
        "      > telofm         60.09% de datos nulos\n",
        "\n",
        "      > emailm         21.8% de datos nulos\n",
        "\n",
        "      > padre           5.10% de datos nulos\n",
        "\n",
        "      > ocupap          6.73% de datos nulos\n",
        "\n",
        "      >  emprep         25.99% de datos nulos\n",
        "\n",
        "      > celularp       22.27% de datos nulos\n",
        "\n",
        "      >  telofp         51.74% de datos nulos\n",
        "\n",
        "      >  emailp         35.73% de datos nulos\n",
        "\n",
        "      >  pedi           18.33% de datos nulos\n",
        "\n",
        "      > telpedi        26.68% de datos nulos\n"
      ]
    },
    {
      "cell_type": "code",
      "execution_count": 157,
      "metadata": {
        "id": "AxqK0Uxuj9KO"
      },
      "outputs": [],
      "source": [
        "df = df.dropna(how='all')"
      ]
    },
    {
      "cell_type": "markdown",
      "metadata": {
        "id": "jOT6E32flvnA"
      },
      "source": [
        "No habian registros con todos los valores nulos, ahora se revisara valores unicos para hallar inconsistencias"
      ]
    },
    {
      "cell_type": "markdown",
      "source": [
        "## -Manejo de inconsistencias"
      ],
      "metadata": {
        "id": "OG4C5vTGfbwm"
      }
    },
    {
      "cell_type": "markdown",
      "source": [
        "Se procede a evaluar cuantos valores unicos tiene cada columna, con el fin de encontrar columnas que no aporten informacion suficiente"
      ],
      "metadata": {
        "id": "nW3o97WWhtqO"
      }
    },
    {
      "cell_type": "code",
      "source": [
        "for col in df:\n",
        "    print(col, len(df[col].unique()))"
      ],
      "metadata": {
        "id": "Byso0MG2mITI",
        "colab": {
          "base_uri": "https://localhost:8080/"
        },
        "outputId": "58e2b1ec-3798-4c7b-e423-a04333ff6417"
      },
      "execution_count": 158,
      "outputs": [
        {
          "output_type": "stream",
          "name": "stdout",
          "text": [
            "clave 430\n",
            "digito 3\n",
            "digban 97\n",
            "nombrea 431\n",
            "sexo 2\n",
            "domal 385\n",
            "coloa 173\n",
            "pobla 66\n",
            "cpa 83\n",
            "fecnaca 407\n",
            "naciona 19\n",
            "tela 337\n",
            "nivel 3\n",
            "grado 7\n",
            "grupo 1\n",
            "escpro 39\n",
            "porcol 10\n",
            "porins 14\n",
            "madre 370\n",
            "ocupam 156\n",
            "emprem 196\n",
            "celularm 302\n",
            "telofm 150\n",
            "emailm 292\n",
            "padre 356\n",
            "ocupap 155\n",
            "emprep 219\n",
            "celularp 266\n",
            "telofp 179\n",
            "emailp 242\n",
            "pedi 260\n",
            "telpedi 188\n",
            "factura 22\n",
            "fechains 116\n",
            "fechbaja 12\n",
            "plan 2\n",
            "edad 1\n",
            "capturado 1\n"
          ]
        }
      ]
    },
    {
      "cell_type": "markdown",
      "metadata": {
        "id": "n-YcQtFzmYbp"
      },
      "source": [
        "***2da Decision tomada:***\n",
        "\n",
        "Eliminare las columnas como edad, capturado y grupo con un solo valor único  \n",
        "\n",
        "***Explicacion:*** Se puede evidenciar no nos proporcionan nada de informacion en este caso al todos los elementos tener el mismo valor. Por lo tanto procederemos a descartarlo\n",
        "\n",
        "* En el caso de edad su único valor fue 0\n",
        "* En el caso de grupo su valor único fue A\n",
        "* En el caso de capturado es Falso\n",
        "\n"
      ]
    },
    {
      "cell_type": "code",
      "execution_count": 159,
      "metadata": {
        "id": "hd-6BUk8mIAO",
        "collapsed": true,
        "colab": {
          "base_uri": "https://localhost:8080/"
        },
        "outputId": "86160ff4-33d1-4150-ca28-fbfeab6b3bdf"
      },
      "outputs": [
        {
          "output_type": "execute_result",
          "data": {
            "text/plain": [
              "35"
            ]
          },
          "metadata": {},
          "execution_count": 159
        }
      ],
      "source": [
        "columnas_con_un_unico_value = [\"edad\", \"capturado\", \"grupo\"]\n",
        "df = df.drop(columnas_con_un_unico_value, axis=1)\n",
        "len(df.columns)"
      ]
    },
    {
      "cell_type": "markdown",
      "source": [
        "Luego de haber eliminado las columnas que no proporcionaban información relevante. En el dataframe solo quedaron 35 columnas"
      ],
      "metadata": {
        "id": "Y3_sI1xmmgVn"
      }
    },
    {
      "cell_type": "markdown",
      "metadata": {
        "id": "bqmawWsIonSH"
      },
      "source": [
        "Se procederá a buscar si hay registros en el que mas de 60% de sus columnas sean valor nulos:"
      ]
    },
    {
      "cell_type": "code",
      "execution_count": 160,
      "metadata": {
        "id": "bB0_NYvfnQYn",
        "colab": {
          "base_uri": "https://localhost:8080/"
        },
        "outputId": "cf30a138-bf11-46cd-95f5-bfba48274444"
      },
      "outputs": [
        {
          "output_type": "execute_result",
          "data": {
            "text/plain": [
              "0"
            ]
          },
          "metadata": {},
          "execution_count": 160
        }
      ],
      "source": [
        "((df.isnull().sum(axis=1)/len(df.columns)) > 0.6).sum()"
      ]
    },
    {
      "cell_type": "markdown",
      "source": [
        "Se procederá a buscar si hay registros en el que mas de 30% de sus columnas sean valor nulos:"
      ],
      "metadata": {
        "id": "2iAo47UPnRWp"
      }
    },
    {
      "cell_type": "code",
      "execution_count": 161,
      "metadata": {
        "id": "pjrRVgM7oCXB",
        "colab": {
          "base_uri": "https://localhost:8080/"
        },
        "outputId": "0dabbeff-f993-4547-8122-49fefccc6dc2"
      },
      "outputs": [
        {
          "output_type": "execute_result",
          "data": {
            "text/plain": [
              "9"
            ]
          },
          "metadata": {},
          "execution_count": 161
        }
      ],
      "source": [
        "((df.isnull().sum(axis=1)/len(df.columns)) > 0.3).sum()"
      ]
    },
    {
      "cell_type": "markdown",
      "source": [
        "Se procederá a buscar si hay registros en el que mas de 10% de sus columnas sean valor nulos:"
      ],
      "metadata": {
        "id": "9bcM_BBKnUKn"
      }
    },
    {
      "cell_type": "code",
      "execution_count": 162,
      "metadata": {
        "id": "DUcC2EXko9Yb",
        "colab": {
          "base_uri": "https://localhost:8080/"
        },
        "outputId": "a482567f-b8fa-43e4-aadd-c8b95fa0ec26"
      },
      "outputs": [
        {
          "output_type": "execute_result",
          "data": {
            "text/plain": [
              "238"
            ]
          },
          "metadata": {},
          "execution_count": 162
        }
      ],
      "source": [
        "((df.isnull().sum(axis=1)/len(df.columns)) > 0.1).sum()"
      ]
    },
    {
      "cell_type": "markdown",
      "metadata": {
        "id": "SysPHDqspBWX"
      },
      "source": [
        "**(2. Resumen Errores o datos faltantes encontrados)**\n",
        "\n",
        "Como se puede evidenciar en los anteriores resultados hay una gran cantidad de registros (238) que tienen mas del 10% de sus columnas en valores nulos, al ser tan grande este numero no se considerara el eliminar registros por calidad de informacion, en un ambiente de produccion si valdria tener un porcentaje de minimo porcentaje en nulo si no se descarta el registro, valor o se retorna un error"
      ]
    },
    {
      "cell_type": "markdown",
      "metadata": {
        "id": "wsHXIckdpskE"
      },
      "source": [
        "Con respecto al manejo de los valores nulos, podría intentarse rellenar con información que tenga sentido como la media (en el caso de columnas numericas) pero en la realidad estos datos son independientes unos de otros por lo tanto añadir información no real puede ser peligroso para posteriores entrenamientos de modelos de Machine learning o puede llevar a posibles mal entendidos a la hora de interpretar gráficas o visualizaciones"
      ]
    },
    {
      "cell_type": "markdown",
      "metadata": {
        "id": "-ciiaquQpmfq"
      },
      "source": [
        "## -Manejo de duplicados\n",
        "\n",
        "Primero, es indispensable hallar una llave primaria que permita identificar rapidamente posibles duplicados, echando un vistazo en las columnas, se puede identificar la columna: \"clave\" como una posible llave única\n"
      ]
    },
    {
      "cell_type": "code",
      "execution_count": 163,
      "metadata": {
        "id": "EA3s8z9Wo-3d"
      },
      "outputs": [],
      "source": [
        "# clave = df[\"clave\"]\n",
        "# df[clave.isin(clave[clave.duplicated()])].sort_values(\"clave\")"
      ]
    },
    {
      "cell_type": "markdown",
      "metadata": {
        "id": "bCRBl8PQq2Vl"
      },
      "source": [
        "**(Punto 3. Resumen Errores o datos faltantes encontrados)**\n",
        "\n",
        "Se encontraton 2 claves repetidas, y al observar los resultados anteriores de unicidad por columna.\n",
        "\n",
        "Efectivamente hay solo un registro que tiene duplicada clave"
      ]
    },
    {
      "cell_type": "markdown",
      "metadata": {
        "id": "5v7nih_trvcB"
      },
      "source": [
        "**(Punto 3.Resumen Analisis realizado)**\n",
        "\n",
        "Al comparar la informacion del dato duplicado y al no encontrar mas registros con el mismo nombre puedo suponer/asumir que este fue un error de concurrencia/race conditions a la hora de incluir la clave y que ademas la base de datos no tenia como llave primaria \"clave\", se puede evaluar una llave primaria compuesta"
      ]
    },
    {
      "cell_type": "code",
      "execution_count": 164,
      "metadata": {
        "id": "tvogNTHzqqiO",
        "colab": {
          "base_uri": "https://localhost:8080/"
        },
        "outputId": "694291ea-58fe-4d53-f31a-2c4a72ff8294"
      },
      "outputs": [
        {
          "output_type": "execute_result",
          "data": {
            "text/plain": [
              "(2632, 3992, 1360)"
            ]
          },
          "metadata": {},
          "execution_count": 164
        }
      ],
      "source": [
        "min(df.clave), max(df.clave), max(df.clave) - min(df.clave)"
      ]
    },
    {
      "cell_type": "markdown",
      "metadata": {
        "id": "MGc5bumUsp1I"
      },
      "source": [
        "**3ra decision tomada:**\n",
        "Se le asignará una clave única no existente 3993 a la estudiante \"CARREON REYES AMY\"\n",
        "\n",
        "**Explicación**\n",
        "Para efectos practicos de esta prueba solo le cambiare la clave a dicho registro duplicado a una clave no existente con el fin de no perder la informacion del mismo"
      ]
    },
    {
      "cell_type": "code",
      "execution_count": 165,
      "metadata": {
        "id": "WIJ7mxZVspg5"
      },
      "outputs": [],
      "source": [
        "# df.loc[df.nombrea==\"CARDENAS ANYELI\", \"clave\"] = 3993"
      ]
    },
    {
      "cell_type": "code",
      "execution_count": 166,
      "metadata": {
        "id": "M0QQFNWWsc4s"
      },
      "outputs": [],
      "source": [
        "# df[df.nombrea==\"CARDENAS ANYELI\"]"
      ]
    },
    {
      "cell_type": "markdown",
      "metadata": {
        "id": "HXVtuAEhtNSd"
      },
      "source": [
        "Exitosamente fue cambiada la clave para el registo, asumo que el registro desea mantenerse, por ello no fue borrado"
      ]
    },
    {
      "cell_type": "markdown",
      "metadata": {
        "id": "Oxm0N-HBtZhB"
      },
      "source": [
        "Se vuelve a evaluar unicidad de \"clave\" como llave primaria"
      ]
    },
    {
      "cell_type": "code",
      "execution_count": 273,
      "metadata": {
        "id": "IhNBHfhds6VP"
      },
      "outputs": [],
      "source": [
        "# clave = df[\"clave\"]\n",
        "# df[clave.isin(clave[clave.duplicated()])].sort_values(\"clave\")"
      ]
    },
    {
      "cell_type": "markdown",
      "metadata": {
        "id": "6dny6cuTtghO"
      },
      "source": [
        "Ya no hay duplicados con respecto a la llave primaria seleccionada"
      ]
    },
    {
      "cell_type": "markdown",
      "metadata": {
        "id": "-nD8GJZIuCLb"
      },
      "source": [
        "## -Manejo de datos malformados"
      ]
    },
    {
      "cell_type": "markdown",
      "source": [
        "###Exploración de fechas en el df:"
      ],
      "metadata": {
        "id": "t69saC0r2hxB"
      }
    },
    {
      "cell_type": "markdown",
      "metadata": {
        "id": "oOh07lhOxByG"
      },
      "source": [
        "Se identifican posibles fechas en las columnas"
      ]
    },
    {
      "cell_type": "code",
      "execution_count": 168,
      "metadata": {
        "id": "rgQdaMp_tevm",
        "colab": {
          "base_uri": "https://localhost:8080/"
        },
        "outputId": "ba3bb3d3-cefc-4602-a48f-ed0a13ed7623"
      },
      "outputs": [
        {
          "output_type": "execute_result",
          "data": {
            "text/plain": [
              "('posibles fechas a revisar: ', ['fecnaca', 'fechains', 'fechbaja'])"
            ]
          },
          "metadata": {},
          "execution_count": 168
        }
      ],
      "source": [
        "\"posibles fechas a revisar: \", [column for column in df.columns.tolist() if \"fec\" in column]"
      ]
    },
    {
      "cell_type": "markdown",
      "source": [
        "En el dataframe hay 3 columnas de formato fecha:\n",
        "'fecnaca', 'fechains', 'fechbaja':\n",
        "\n"
      ],
      "metadata": {
        "id": "K0BVIgayrSIS"
      }
    },
    {
      "cell_type": "markdown",
      "source": [
        "###Columna Fecnaca:"
      ],
      "metadata": {
        "id": "aHmuF-HY1azM"
      }
    },
    {
      "cell_type": "code",
      "execution_count": 169,
      "metadata": {
        "id": "puyQLxfluQuC",
        "colab": {
          "base_uri": "https://localhost:8080/"
        },
        "outputId": "f5fef711-5ead-489c-ae93-0ff7fc99a5dc"
      },
      "outputs": [
        {
          "output_type": "execute_result",
          "data": {
            "text/plain": [
              "0       2/12/2018\n",
              "1       4/19/2007\n",
              "2       3/27/2013\n",
              "3       7/15/2013\n",
              "4       1/12/2018\n",
              "          ...    \n",
              "426    11/13/2009\n",
              "427     6/19/2009\n",
              "428     7/24/2020\n",
              "429     9/28/2019\n",
              "430    11/25/2021\n",
              "Name: fecnaca, Length: 431, dtype: object"
            ]
          },
          "metadata": {},
          "execution_count": 169
        }
      ],
      "source": [
        "df.fecnaca"
      ]
    },
    {
      "cell_type": "markdown",
      "source": [
        "Se procede a crear una nueva columna llamada 'Date_fecnaca' con la misma información que fecnaca para efectos practicos de la prueba y no editar sobre la columna original fecnaca\n",
        "\n",
        "Y se especifica el formato para convertir a fecha y gracias coerce nos ayuda a manejar errores encontrados durante la conversión estableciendoce como valores NaT (Not a Time), es decir, valores nulos para las fechas que no pueden ser convertidas correctamente."
      ],
      "metadata": {
        "id": "m3YAP8pJvkJV"
      }
    },
    {
      "cell_type": "code",
      "execution_count": 170,
      "metadata": {
        "id": "1H1c9xLEuosY",
        "colab": {
          "base_uri": "https://localhost:8080/"
        },
        "outputId": "faebfeba-2543-4eae-d9d6-75b33d1d37ab"
      },
      "outputs": [
        {
          "output_type": "execute_result",
          "data": {
            "text/plain": [
              "430"
            ]
          },
          "metadata": {},
          "execution_count": 170
        }
      ],
      "source": [
        "df['Date_fecnaca'] = pd.to_datetime(df['fecnaca'], format='%m/%d/%Y', errors='coerce')\n",
        "valid_dates = df['Date_fecnaca'].notnull()\n",
        "\n",
        "valid_dates.sum()"
      ]
    },
    {
      "cell_type": "markdown",
      "source": [
        "Para la columna 'Date_fecnaca' hay 430 datos con información, a excepción de 1 solo nulo, procedemos a evaluarlo:"
      ],
      "metadata": {
        "id": "ChX_3U0trin4"
      }
    },
    {
      "cell_type": "code",
      "execution_count": 171,
      "metadata": {
        "id": "1Gfxt6o-yfcm"
      },
      "outputs": [],
      "source": [
        "# df[df['Date_fecnaca'].isnull()]"
      ]
    },
    {
      "cell_type": "markdown",
      "metadata": {
        "id": "SbbkL8WevmR7"
      },
      "source": [
        "**(Punto 4. Errores o datos faltantes encontrados)**\n",
        "\n",
        "Se encontro un solo registro del estudiante\n",
        " que no cumple la notacion de fecha para la columna \"fecnaca\", por lo tanto al no poder convertirse \"- -\" en una fecha entonces el valor se convierte en NaT"
      ]
    },
    {
      "cell_type": "markdown",
      "source": [
        "**4ta Decisión tomada:**\n",
        "\n",
        "Se procede a cambiar el registro \"- -\" para convertirlo a NaT\n",
        "\n",
        "**Explicacion**\n",
        "Vemos que el registro no es valido para el formato fecha por lo tanto se convierte a NULL o en timestamp NaT (Not a Time), ya que el valor actual \"  -  -\" no indica nada de informacion"
      ],
      "metadata": {
        "id": "E2WySB774rIc"
      }
    },
    {
      "cell_type": "markdown",
      "metadata": {
        "id": "x_2lbEDcxRdY"
      },
      "source": [
        "###Columna Fechains:"
      ]
    },
    {
      "cell_type": "markdown",
      "source": [
        "Se procede a crear una nueva columna llamada 'Date_fechains' con la misma información que fechains para efectos practicos de la prueba y no editar sobre la columna original\n",
        "\n",
        "Tambien se especifica el formato para convertir a fecha.\n",
        "\n",
        "Coerce nos ayuda a manejar errores encontrados durante la conversión estableciendoce como valores NaT (Not a Time), es decir, valores nulos para las fechas que no pueden ser convertidas correctamente."
      ],
      "metadata": {
        "id": "rBjHjN8x1rUs"
      }
    },
    {
      "cell_type": "code",
      "execution_count": 172,
      "metadata": {
        "id": "-NrrXyRev5fE",
        "colab": {
          "base_uri": "https://localhost:8080/"
        },
        "outputId": "9321d495-f211-4ee3-9027-d6e919cc5a10"
      },
      "outputs": [
        {
          "output_type": "execute_result",
          "data": {
            "text/plain": [
              "431"
            ]
          },
          "metadata": {},
          "execution_count": 172
        }
      ],
      "source": [
        "df['Date_fechains'] = pd.to_datetime(df['fechains'], format='%m/%d/%Y', errors='coerce')\n",
        "valid_dates = df['Date_fechains'].notnull()\n",
        "\n",
        "valid_dates.sum()"
      ]
    },
    {
      "cell_type": "markdown",
      "metadata": {
        "id": "AgRdcjV2xW77"
      },
      "source": [
        "Evidenciamos que todos los valores de la columna son validos con el formato"
      ]
    },
    {
      "cell_type": "markdown",
      "source": [
        "###Columna Fechbaja:"
      ],
      "metadata": {
        "id": "Wmc43s-J17LD"
      }
    },
    {
      "cell_type": "markdown",
      "metadata": {
        "id": "Q8WBB-klxfKt"
      },
      "source": [
        "Se procede a crear una nueva columna llamada 'Date_fechbaja' con la misma información que fechbaja para efectos practicos de la prueba y no editar sobre la columna original\n",
        "\n",
        "Tambien se especifica el formato para convertir a fecha.\n",
        "\n",
        "Coerce nos ayuda a manejar errores encontrados durante la conversión estableciendoce como valores NaT (Not a Time), es decir, valores nulos para las fechas que no pueden ser convertidas correctamente."
      ]
    },
    {
      "cell_type": "code",
      "execution_count": 173,
      "metadata": {
        "id": "6x0bejxzxPdV",
        "colab": {
          "base_uri": "https://localhost:8080/"
        },
        "outputId": "84a84ecf-223e-4314-e9cc-07964491c4cb"
      },
      "outputs": [
        {
          "output_type": "execute_result",
          "data": {
            "text/plain": [
              "12"
            ]
          },
          "metadata": {},
          "execution_count": 173
        }
      ],
      "source": [
        "df['Date_fechbaja'] = pd.to_datetime(df['fechbaja'], format='%m/%d/%Y', errors='coerce')\n",
        "valid_dates = df['Date_fechbaja'].notnull()\n",
        "\n",
        "valid_dates.sum()"
      ]
    },
    {
      "cell_type": "markdown",
      "source": [
        "**Punto 5 del Resumen (Errores o datos faltantes encontrados):**\n",
        "\n",
        "Hay 12 columnas que NO SON nulas, 419 nulas."
      ],
      "metadata": {
        "id": "OBjwLmTd2JGn"
      }
    },
    {
      "cell_type": "code",
      "execution_count": 174,
      "metadata": {
        "id": "WQzCyBzDxnRK",
        "colab": {
          "base_uri": "https://localhost:8080/"
        },
        "outputId": "c8ffef05-284e-4382-98c4-2c50b9f9abb7"
      },
      "outputs": [
        {
          "output_type": "stream",
          "name": "stdout",
          "text": [
            "[\"   -   -\", \"   -   -\", \"   -   -\", \"   -   -\", \"   -   -\", \"   -   -\", \"   -   -\", \"   -   -\", \"   -   -\", \"   -   -\", \"   -   -\", \"   -   -\", \"   -   -\", \"   -   -\", \"   -   -\", \"   -   -\", \"   -   -\", \"   -   -\", \"   -   -\", \"   -   -\", \"   -   -\", \"   -   -\", \"   -   -\", \"   -   -\", \"   -   -\", \"   -   -\", \"   -   -\", \"   -   -\", \"   -   -\", \"   -   -\", \"   -   -\", \"   -   -\", \"   -   -\", \"   -   -\", \" 1/9/2023\", \" 10/5/2022\", \" 11/30/2022\", \"   -   -\", \"   -   -\", \"   -   -\", \"   -   -\", \"   -   -\", \"   -   -\", \"   -   -\", \"   -   -\", \"   -   -\", \"   -   -\", \"   -   -\", \"   -   -\", \"   -   -\", \"   -   -\", \"   -   -\", \" 7/6/2022\", \"   -   -\", \"   -   -\", \"   -   -\", \"   -   -\", \"   -   -\", \"   -   -\", \"   -   -\", \"   -   -\", \"   -   -\", \"   -   -\", \"   -   -\", \"   -   -\", \"   -   -\", \"   -   -\", \"   -   -\", \"   -   -\", \"   -   -\", \"   -   -\", \"   -   -\", \"   -   -\", \"   -   -\", \"   -   -\", \"   -   -\", \"   -   -\", \"   -   -\", \"   -   -\", \"   -   -\", \"   -   -\", \"   -   -\", \"   -   -\", \"   -   -\", \"   -   -\", \"   -   -\", \"   -   -\", \"   -   -\", \"   -   -\", \"   -   -\", \"   -   -\", \"   -   -\", \"   -   -\", \"   -   -\", \"   -   -\", \"   -   -\", \"   -   -\", \"   -   -\", \"   -   -\", \"   -   -\", \"   -   -\", \"   -   -\", \"   -   -\", \"   -   -\", \"   -   -\", \"   -   -\", \"   -   -\", \"   -   -\", \"   -   -\", \"   -   -\", \"   -   -\", \"   -   -\", \" 12/13/2022\", \"   -   -\", \" 10/25/2022\", \"   -   -\", \"   -   -\", \"   -   -\", \"   -   -\", \"   -   -\", \"   -   -\", \"   -   -\", \"   -   -\", \"   -   -\", \"   -   -\", \"   -   -\", \"   -   -\", \"   -   -\", \"   -   -\", \"   -   -\", \"   -   -\", \"   -   -\", \"   -   -\", \"   -   -\", \"   -   -\", \"   -   -\", \"   -   -\", \"   -   -\", \"   -   -\", \"   -   -\", \"   -   -\", \"   -   -\", \"   -   -\", \"   -   -\", \"   -   -\", \"   -   -\", \"   -   -\", \"   -   -\", \"   -   -\", \"   -   -\", \"   -   -\", \"   -   -\", \"   -   -\", \"   -   -\", \"   -   -\", \"   -   -\", \"   -   -\", \"   -   -\", \"   -   -\", \"   -   -\", \"   -   -\", \"   -   -\", \"   -   -\", \"   -   -\", \"   -   -\", \"   -   -\", \"   -   -\", \"   -   -\", \"   -   -\", \"   -   -\", \"   -   -\", \"   -   -\", \" 7/22/2022\", \"   -   -\", \"   -   -\", \"   -   -\", \"   -   -\", \"   -   -\", \"   -   -\", \"   -   -\", \"   -   -\", \"   -   -\", \"   -   -\", \"   -   -\", \"   -   -\", \"   -   -\", \"   -   -\", \"   -   -\", \"   -   -\", \"   -   -\", \"   -   -\", \"   -   -\", \"   -   -\", \"   -   -\", \"   -   -\", \"   -   -\", \"   -   -\", \"   -   -\", \"   -   -\", \"   -   -\", \"   -   -\", \"   -   -\", \"   -   -\", \"   -   -\", \"   -   -\", \"   -   -\", \"   -   -\", \"   -   -\", \"   -   -\", \"   -   -\", \" 8/22/2022\", \" 8/22/2022\", \"   -   -\", \"   -   -\", \"   -   -\", \"   -   -\", \"   -   -\", \"   -   -\", \"   -   -\", \"   -   -\", \"   -   -\", \"   -   -\", \"   -   -\", \"   -   -\", \"   -   -\", \"   -   -\", \"   -   -\", \"   -   -\", \"   -   -\", \"   -   -\", \"   -   -\", \"   -   -\", \"   -   -\", \"   -   -\", \"   -   -\", \"   -   -\", \"   -   -\", \"   -   -\", \"   -   -\", \"   -   -\", \"   -   -\", \"   -   -\", \"   -   -\", \"   -   -\", \"   -   -\", \"   -   -\", \"   -   -\", \"   -   -\", \"   -   -\", \"   -   -\", \"   -   -\", \"   -   -\", \"   -   -\", \"   -   -\", \"   -   -\", \"   -   -\", \"   -   -\", \"   -   -\", \"   -   -\", \"   -   -\", \"   -   -\", \"   -   -\", \"   -   -\", \"   -   -\", \"   -   -\", \"   -   -\", \" 8/12/2022\", \"   -   -\", \"   -   -\", \"   -   -\", \"   -   -\", \"   -   -\", \"   -   -\", \"   -   -\", \"   -   -\", \"   -   -\", \"   -   -\", \"   -   -\", \"   -   -\", \"   -   -\", \"   -   -\", \"   -   -\", \"   -   -\", \"   -   -\", \"   -   -\", \"   -   -\", \"   -   -\", \"   -   -\", \"   -   -\", \"   -   -\", \"   -   -\", \"   -   -\", \"   -   -\", \"   -   -\", \"   -   -\", \"   -   -\", \"   -   -\", \"   -   -\", \"   -   -\", \"   -   -\", \"   -   -\", \"   -   -\", \"   -   -\", \"   -   -\", \"   -   -\", \"   -   -\", \"   -   -\", \"   -   -\", \"   -   -\", \"   -   -\", \"   -   -\", \"   -   -\", \"   -   -\", \"   -   -\", \"   -   -\", \"   -   -\", \"   -   -\", \"   -   -\", \"   -   -\", \"   -   -\", \"   -   -\", \"   -   -\", \"   -   -\", \"   -   -\", \"   -   -\", \"   -   -\", \"   -   -\", \"   -   -\", \"   -   -\", \"   -   -\", \"   -   -\", \"   -   -\", \"   -   -\", \"   -   -\", \"   -   -\", \"   -   -\", \"   -   -\", \"   -   -\", \"   -   -\", \"   -   -\", \" 9/13/2022\", \"   -   -\", \"   -   -\", \"   -   -\", \"   -   -\", \"   -   -\", \"   -   -\", \"   -   -\", \"   -   -\", \"   -   -\", \"   -   -\", \"   -   -\", \"   -   -\", \"   -   -\", \"   -   -\", \"   -   -\", \"   -   -\", \"   -   -\", \"   -   -\", \"   -   -\", \"   -   -\", \"   -   -\", \"   -   -\", \"   -   -\", \"   -   -\", \"   -   -\", \"   -   -\", \"   -   -\", \"   -   -\", \"   -   -\", \"   -   -\", \"   -   -\", \"   -   -\", \"   -   -\", \"   -   -\", \"   -   -\", \"   -   -\", \"   -   -\", \"   -   -\", \"   -   -\", \"   -   -\", \"   -   -\", \"   -   -\", \"   -   -\", \"   -   -\", \"   -   -\", \"   -   -\", \"   -   -\", \"   -   -\", \"   -   -\", \"   -   -\", \"   -   -\", \"   -   -\", \"   -   -\", \"   -   -\", \" 9/5/2022\", \"   -   -\", \"   -   -\", \"   -   -\", \"   -   -\", \"   -   -\", \"   -   -\", \"   -   -\", \"   -   -\", \"   -   -\", \"   -   -\", \"   -   -\", \"   -   -\", \"   -   -\", \"   -   -\", \"   -   -\", \"   -   -\", \"   -   -\", \"   -   -\", \"   -   -\", \"   -   -\", \"   -   -\", \"   -   -\", \"   -   -\", \"   -   -\", \"   -   -\", \"   -   -\", \"   -   -\", \"   -   -\", \"   -   -\", \"   -   -\", \"   -   -\", \"   -   -\", \"   -   -\", \"   -   -\", \"   -   -\", ]"
          ]
        }
      ],
      "source": [
        "print(\"[\", end='')\n",
        "for i in df['fechbaja'].tolist():\n",
        "  print('\"', i, end='\", ')\n",
        "print(\"]\", end='')\n"
      ]
    },
    {
      "cell_type": "markdown",
      "metadata": {
        "id": "WcDwFTUlyevv"
      },
      "source": [
        "**5ta Decisión tomada:**\n",
        "\n",
        "Se procede a cambiar todos los registros que contengan \"- -\" con dobles espacios u otros caracteres sin sentido dentro del mismo para finalente convertirlo a NaT\n",
        "\n",
        "**Explicacion:**\n",
        "\n",
        "Vemos que la gran mayoria son valores que no son validos para el formato fecha por lo tanto procedemos a convertirlos a NULL o en timestamp NaT (Not a Time), ya que el valor actual \"   -   -\" no indica nada de informacion"
      ]
    },
    {
      "cell_type": "markdown",
      "source": [
        "### Eliminacion del df las columnas originales"
      ],
      "metadata": {
        "id": "g58-p62k5jJk"
      }
    },
    {
      "cell_type": "code",
      "execution_count": 175,
      "metadata": {
        "id": "qKO5zNqlywP2"
      },
      "outputs": [],
      "source": [
        "columnas_fechas_sin_transformar = ['fecnaca', 'fechains', 'fechbaja']\n",
        "df = df.drop(columnas_fechas_sin_transformar, axis=1)"
      ]
    },
    {
      "cell_type": "markdown",
      "source": [
        "**6ta Decisión tomada:**\n",
        "Se eliminaron las columnas originales de fechas debido a que era una copia sucia de las nuevas columnas agregadas\n",
        "\n",
        "**Explicación**\n",
        "No se coloca en la sección de *'columnas agregadas'* ya que estas columnas fueron una copia limpia de las que se acaban de eliminar."
      ],
      "metadata": {
        "id": "cSFas-mv5wGD"
      }
    },
    {
      "cell_type": "markdown",
      "source": [
        "###Analisis de maximos y minimos en las columnas de fecha:"
      ],
      "metadata": {
        "id": "ICkpcdzb7ywV"
      }
    },
    {
      "cell_type": "markdown",
      "source": [
        "Se procede a buscar anomalías en las columnas de fechas, por ejemplo:\n",
        "* fechas mayores a la fecha actual (ejemplo: mayores a 2024)\n",
        "* fechas minimas incongruentes (ejemplo: 3000 a.C.)"
      ],
      "metadata": {
        "id": "7emL03xw9AJQ"
      }
    },
    {
      "cell_type": "markdown",
      "source": [
        "Maximos y minimos para la columna 'Date_fecnaca':"
      ],
      "metadata": {
        "id": "zLmyRHcp74jl"
      }
    },
    {
      "cell_type": "code",
      "execution_count": 176,
      "metadata": {
        "id": "nExQ6mUxzFUq",
        "colab": {
          "base_uri": "https://localhost:8080/"
        },
        "outputId": "6fc1ed7a-0ade-4907-c499-40dce812ce3b"
      },
      "outputs": [
        {
          "output_type": "execute_result",
          "data": {
            "text/plain": [
              "(Timestamp('2069-11-19 00:00:00'), Timestamp('2001-08-03 00:00:00'))"
            ]
          },
          "metadata": {},
          "execution_count": 176
        }
      ],
      "source": [
        "df[\"Date_fecnaca\"].max(), df[\"Date_fecnaca\"].min()"
      ]
    },
    {
      "cell_type": "markdown",
      "source": [
        "Maximos y minimos para la columna 'Date_fechains':"
      ],
      "metadata": {
        "id": "bA9Dq4S88AlM"
      }
    },
    {
      "cell_type": "code",
      "execution_count": 177,
      "metadata": {
        "id": "sXzznEKWzZsA",
        "colab": {
          "base_uri": "https://localhost:8080/"
        },
        "outputId": "e8fbca2c-cb7c-4c26-dac4-243ed6867cac"
      },
      "outputs": [
        {
          "output_type": "execute_result",
          "data": {
            "text/plain": [
              "(Timestamp('2023-05-02 00:00:00'), Timestamp('2022-02-11 00:00:00'))"
            ]
          },
          "metadata": {},
          "execution_count": 177
        }
      ],
      "source": [
        "df[\"Date_fechains\"].max(), df[\"Date_fechains\"].min()"
      ]
    },
    {
      "cell_type": "markdown",
      "source": [
        "Maximos y minimos para la columna 'Date_fechbaja':"
      ],
      "metadata": {
        "id": "Cl6H-T_M8Cjc"
      }
    },
    {
      "cell_type": "code",
      "execution_count": 178,
      "metadata": {
        "id": "NsQUHyEHzTsM",
        "colab": {
          "base_uri": "https://localhost:8080/"
        },
        "outputId": "1d3aa252-e8c3-440a-c2d9-768a99c85d9e"
      },
      "outputs": [
        {
          "output_type": "execute_result",
          "data": {
            "text/plain": [
              "(Timestamp('2023-01-09 00:00:00'), Timestamp('2022-07-06 00:00:00'))"
            ]
          },
          "metadata": {},
          "execution_count": 178
        }
      ],
      "source": [
        "df[\"Date_fechbaja\"].max(), df[\"Date_fechbaja\"].min()"
      ]
    },
    {
      "cell_type": "markdown",
      "metadata": {
        "id": "Br1AKP-szjND"
      },
      "source": [
        "**4. Resumen Analisis realizado:**\n",
        "\n",
        "Los maximos y minimos nos indican valores entre 2022 y 2023 para fechains y fechbaja, pero para fecnaca arroja unos valores distintos ya que es una columna de fecha de nacimiento.\n",
        "\n",
        "Se asumen fechas anormales como cualquier fecha mayor a 2024 (Este es un dato que tocaria corroborar con el product owner del equipo, con el data owner e incluso con el proveedor de los datos)"
      ]
    },
    {
      "cell_type": "code",
      "execution_count": 179,
      "metadata": {
        "id": "jN_oHiS2zhcJ"
      },
      "outputs": [],
      "source": [
        "# df[df[\"Date_fecnaca\"]> '2024-01-01']"
      ]
    },
    {
      "cell_type": "markdown",
      "metadata": {
        "id": "H6vmnXnu0W8C"
      },
      "source": [
        "**7ma Decisión tomada:**\n",
        "\n",
        "Se convirtió a null el único registro de fecha que era mayor a 2024\n",
        "\n",
        "**Explicación:**\n",
        "\n",
        "Despues de revisar cuantos datos presentan dicha anomalía, solo podemos evidenciar 1 solo registro por lo cual asumiremos que es un error de digitacion o de sistema, asi que lo transformaremos a null por ahora"
      ]
    },
    {
      "cell_type": "code",
      "execution_count": 180,
      "metadata": {
        "id": "y_RJE2g40OI_"
      },
      "outputs": [],
      "source": [
        "df.loc[df[\"Date_fecnaca\"]> '2024-01-01', 'Date_fecnaca'] = None"
      ]
    },
    {
      "cell_type": "markdown",
      "metadata": {
        "id": "c1NqXZHJ0u2F"
      },
      "source": [
        "Verificamos su nuevo valor"
      ]
    },
    {
      "cell_type": "code",
      "execution_count": 181,
      "metadata": {
        "id": "tuEuehAq0sZ-"
      },
      "outputs": [],
      "source": [
        "# df[df[\"clave\"]== 3917]"
      ]
    },
    {
      "cell_type": "markdown",
      "metadata": {
        "id": "tGYIOrh707Ax"
      },
      "source": [
        "Procederemos a evaluar las siguientes columnas en busqueda de posibles errores"
      ]
    },
    {
      "cell_type": "markdown",
      "metadata": {
        "id": "bNLsZFyUCJZb"
      },
      "source": [
        "## - Limpieza y correccion de posibles numeros en columnas con texto"
      ]
    },
    {
      "cell_type": "markdown",
      "metadata": {
        "id": "yd_e2P2l1New"
      },
      "source": [
        "###Columna 'nombrea':"
      ]
    },
    {
      "cell_type": "markdown",
      "metadata": {
        "id": "BB4bquMU7Zz8"
      },
      "source": [
        "Para la columna 'nombrea' hay 0 registros con números"
      ]
    },
    {
      "cell_type": "code",
      "execution_count": 182,
      "metadata": {
        "id": "e7PHfZfR1vly",
        "colab": {
          "base_uri": "https://localhost:8080/"
        },
        "outputId": "6695f8fa-57e6-449c-ce5f-3e0c94335cf9"
      },
      "outputs": [
        {
          "output_type": "stream",
          "name": "stdout",
          "text": [
            "Series([], Name: nombrea, dtype: bool)\n"
          ]
        }
      ],
      "source": [
        "nombre_con_numero = df['nombrea'].str.contains('[0-9]')\n",
        "print(nombre_con_numero[nombre_con_numero])"
      ]
    },
    {
      "cell_type": "markdown",
      "source": [
        "###Columna 'pedi':"
      ],
      "metadata": {
        "id": "7Q8W5kT1HM4O"
      }
    },
    {
      "cell_type": "markdown",
      "metadata": {
        "id": "llm0jA827j28"
      },
      "source": [
        "**6. Resumen Errores o datos faltantes encontrados:**\n",
        "\n",
        "Para la columna 'pedi' hay 1 registro con números, debe ser un error de digitacion, por los cual se arreglara manualmente"
      ]
    },
    {
      "cell_type": "code",
      "execution_count": 274,
      "metadata": {
        "id": "SY7ME4ke8D3F"
      },
      "outputs": [],
      "source": [
        "# pedi_con_numero = df[df['pedi'].str.contains('[0-9]', na=False)]\n",
        "# pedi_con_numero.head()"
      ]
    },
    {
      "cell_type": "markdown",
      "source": [
        "**8tava Decisión tomada:**\n",
        "\n",
        "Se transformó el dígito dentro del texto en información más coherente\n",
        "\n",
        "**Explicacion:**\n",
        "\n",
        " La presencia de dígitos en columnas que deberían contener solo texto puede indicar errores de transcripción o entrada de datos incorrecta, afectando la calidad de los datos o posibles análisis."
      ],
      "metadata": {
        "id": "fOCrvVDNDpWe"
      }
    },
    {
      "cell_type": "code",
      "execution_count": 184,
      "metadata": {
        "id": "SRicUxrdCoH7"
      },
      "outputs": [],
      "source": [
        "df.loc[df['pedi'].str.contains('[0-9]', na=False), \"pedi\"] = \"DR. GOONGORA\""
      ]
    },
    {
      "cell_type": "markdown",
      "metadata": {
        "id": "jUD2zIBeCzxr"
      },
      "source": [
        "Evaluamos que no hayan mas casos"
      ]
    },
    {
      "cell_type": "code",
      "execution_count": 185,
      "metadata": {
        "id": "Pz46KxwTCwVZ",
        "colab": {
          "base_uri": "https://localhost:8080/"
        },
        "outputId": "354beb77-b1f6-4dc5-86c3-2bb39f1d1f03"
      },
      "outputs": [
        {
          "output_type": "execute_result",
          "data": {
            "text/plain": [
              "Series([], Name: pedi, dtype: object)"
            ]
          },
          "metadata": {},
          "execution_count": 185
        }
      ],
      "source": [
        "df.loc[df['pedi'].str.contains('[0-9]', na=False), \"pedi\"]"
      ]
    },
    {
      "cell_type": "markdown",
      "source": [
        "###Columna 'ocupam':"
      ],
      "metadata": {
        "id": "NA1IM_luzXN2"
      }
    },
    {
      "cell_type": "markdown",
      "source": [
        "Columna ocupam no posee numeros dentro de su texto"
      ],
      "metadata": {
        "id": "sFDLATOjPNim"
      }
    },
    {
      "cell_type": "code",
      "source": [
        "ocupam_con_numero = df['ocupam'].str.contains('[0-9]', na=False)\n",
        "print(ocupam_con_numero[ocupam_con_numero])"
      ],
      "metadata": {
        "id": "K-c2zZq8zWkL",
        "colab": {
          "base_uri": "https://localhost:8080/"
        },
        "outputId": "610c0a93-1f55-4562-90c4-272f03f6e9a5"
      },
      "execution_count": 186,
      "outputs": [
        {
          "output_type": "stream",
          "name": "stdout",
          "text": [
            "Series([], Name: ocupam, dtype: bool)\n"
          ]
        }
      ]
    },
    {
      "cell_type": "markdown",
      "source": [
        "###Columna 'ocupap':"
      ],
      "metadata": {
        "id": "7O5xVei4HT7l"
      }
    },
    {
      "cell_type": "markdown",
      "source": [
        "**7. Resumen Errores o datos faltantes encontrados:**\n",
        "\n",
        "Para la columna ocupap se encuentra 1 registro de texto con numero"
      ],
      "metadata": {
        "id": "J5lT6FBXHVpl"
      }
    },
    {
      "cell_type": "code",
      "source": [
        "ocupap_con_numero = df['ocupap'].str.contains('[0-9]', na=False)\n",
        "print(ocupap_con_numero[ocupap_con_numero])\n",
        "df.loc[ocupap_con_numero, \"ocupap\"]"
      ],
      "metadata": {
        "id": "aLwoysQo0SoM",
        "colab": {
          "base_uri": "https://localhost:8080/"
        },
        "outputId": "8611823e-f092-4e82-a89f-e2651cb50e05"
      },
      "execution_count": 187,
      "outputs": [
        {
          "output_type": "stream",
          "name": "stdout",
          "text": [
            "298    True\n",
            "Name: ocupap, dtype: bool\n"
          ]
        },
        {
          "output_type": "execute_result",
          "data": {
            "text/plain": [
              "298    COMERC9IANTE\n",
              "Name: ocupap, dtype: object"
            ]
          },
          "metadata": {},
          "execution_count": 187
        }
      ]
    },
    {
      "cell_type": "markdown",
      "source": [
        "Se procede a arreglarla:"
      ],
      "metadata": {
        "id": "qYJ1xL2fHhQs"
      }
    },
    {
      "cell_type": "code",
      "source": [
        "df.loc[df['ocupap']==\"COMERC9IANTE\", \"ocupap\"] = \"COMERCIANTE\""
      ],
      "metadata": {
        "id": "nWeIAN1PHop5"
      },
      "execution_count": 188,
      "outputs": []
    },
    {
      "cell_type": "markdown",
      "source": [
        "**9na Decisión tomada:**\n",
        "\n",
        "Se transformó el dígito dentro del texto en información más coherente\n",
        "\n",
        "**Explicacion:**\n",
        "\n",
        " La presencia de dígitos en columnas que deberían contener solo texto puede indicar errores de transcripción o entrada de datos incorrecta, afectando la calidad de los datos o posibles análisis."
      ],
      "metadata": {
        "id": "TAJxVA67Evm2"
      }
    },
    {
      "cell_type": "markdown",
      "source": [
        "Se procede a evaluar que no existan más casos:"
      ],
      "metadata": {
        "id": "tgW9Yr07H47t"
      }
    },
    {
      "cell_type": "code",
      "source": [
        "df.loc[df['ocupap'].str.contains('[0-9]', na=False), \"ocupap\"]"
      ],
      "metadata": {
        "id": "NqMSjMHKH-6d",
        "colab": {
          "base_uri": "https://localhost:8080/"
        },
        "outputId": "c7814926-07f0-4a32-a5f6-449a5d999e87"
      },
      "execution_count": 189,
      "outputs": [
        {
          "output_type": "execute_result",
          "data": {
            "text/plain": [
              "Series([], Name: ocupap, dtype: object)"
            ]
          },
          "metadata": {},
          "execution_count": 189
        }
      ]
    },
    {
      "cell_type": "markdown",
      "source": [
        "###Columna 'emprem':"
      ],
      "metadata": {
        "id": "C0PWKhDnIIUt"
      }
    },
    {
      "cell_type": "code",
      "source": [
        "# df.loc[df['emprem'].str.contains('[0-9]', na=False), \"emprem\"]"
      ],
      "metadata": {
        "id": "iZguVOJXIH6A"
      },
      "execution_count": 190,
      "outputs": []
    },
    {
      "cell_type": "markdown",
      "source": [
        "**5. Resumen Analisis Realizado**\n",
        "\n",
        "Se puede evidenciar que hay algunos datos de la columna empresa con numeros dentro del texto posiblemente validos como:\n",
        "> CONSULTORIO DENTAL 2\n",
        "> ZAPATERIAS 5 HERMANO\n",
        "\n",
        "\n",
        "El resto no se eliminan o se limpian, ya que pudo ser un error de comprension al momento de rellenar el formulario debido a que dice 'empresa' y no 'nombre de empresa'.\n",
        "\n",
        "Para efectos de la prueba, lo dejare, ya que pueden ser posibles numeros de registro de la empresa."
      ],
      "metadata": {
        "id": "RGy0GEbaNtre"
      }
    },
    {
      "cell_type": "markdown",
      "source": [
        "###Columna 'pobla':"
      ],
      "metadata": {
        "id": "yq18S8h6Jd7m"
      }
    },
    {
      "cell_type": "markdown",
      "source": [
        "Columna poblacion no cuenta con numeros dentro de su texto."
      ],
      "metadata": {
        "id": "1KAhW9IDPHEG"
      }
    },
    {
      "cell_type": "code",
      "source": [
        "df.loc[df['pobla'].str.contains('[0-9]', na=False), \"pobla\"]"
      ],
      "metadata": {
        "id": "pjyj1mDWJk1R",
        "colab": {
          "base_uri": "https://localhost:8080/"
        },
        "outputId": "e4fec1c3-b239-4318-86d5-7d2670288b2f"
      },
      "execution_count": 191,
      "outputs": [
        {
          "output_type": "execute_result",
          "data": {
            "text/plain": [
              "Series([], Name: pobla, dtype: object)"
            ]
          },
          "metadata": {},
          "execution_count": 191
        }
      ]
    },
    {
      "cell_type": "markdown",
      "metadata": {
        "id": "hNO6kmEEEg7h"
      },
      "source": [
        "## -Validacion y limpieza de emails\n",
        "\n",
        "La validacion de los emails se realizara por medio de expresiones regulares\n"
      ]
    },
    {
      "cell_type": "code",
      "execution_count": 192,
      "metadata": {
        "id": "eTwjJSq2Edg0"
      },
      "outputs": [],
      "source": [
        "# df[df['emailm'].str.match(r'^[A-Za-z0-9._-]+@(gmail|yahoo|hotmail|outlook|icloud|entercresins|gg|msn|live|dnmfarma|wde|prodigy|global-abdc|emblispack|prodigy.net|altamirano|conacorp|arquitextura)\\.com(\\.mx)?$', na=False)]"
      ]
    },
    {
      "cell_type": "markdown",
      "metadata": {
        "id": "Rdj8eWSK1NMl"
      },
      "source": [
        "Se encontraron 289 emails de las madres validos, por lo tanto el resto o bien son nulos o son invalidos"
      ]
    },
    {
      "cell_type": "markdown",
      "metadata": {
        "id": "vzTMs9pV1yMv"
      },
      "source": [
        "Procedemos a buscar los emails de madres que son invalidos para ver los tipo de errores y si se pueden arreglar"
      ]
    },
    {
      "cell_type": "code",
      "execution_count": 193,
      "metadata": {
        "id": "otTt-v7015rj"
      },
      "outputs": [],
      "source": [
        "# lista_email_madres_errores = df.loc[~df['emailm'].str.match(r'^[A-Za-z0-9._-]+@(gmail|yahoo|hotmail|outlook|icloud|entercresins|gg|msn|live|dnmfarma|wde|prodigy|global-abdc|emblispack|prodigy.net|altamirano|conacorp|arquitextura)\\.com(\\.mx)?$', na=False) & ~df.emailm.isnull(), [\"emailm\"]][\"emailm\"].tolist()\n",
        "# lista_email_madres_errores, len(lista_email_madres_errores)"
      ]
    },
    {
      "cell_type": "code",
      "execution_count": 194,
      "metadata": {
        "id": "qAhMD-ZX1gLz"
      },
      "outputs": [],
      "source": [
        "# df[df['emailp'].str.match(r'^[A-Za-z0-9._-]+@(gmail|yahoo|hotmail|outlook|icloud|entercresins|gg|msn|live|dnmfarma|wde|prodigy|global-abdc|emblispack|prodigy.net|altamirano|conacorp|arquitextura)\\.com(\\.mx)?$', na=False)]"
      ]
    },
    {
      "cell_type": "markdown",
      "metadata": {
        "id": "TlLe52Cl1kDv"
      },
      "source": [
        "Se encontraron 225 emails de los padres validos, por lo tanto el resto o bien son nulos o son invalidos"
      ]
    },
    {
      "cell_type": "code",
      "execution_count": 195,
      "metadata": {
        "id": "hUcMpH7s3y-h"
      },
      "outputs": [],
      "source": [
        "# lista_email_padres_errores = df.loc[~df['emailp'].str.match(r'^[A-Za-z0-9._-]+@(gmail|yahoo|hotmail|outlook|icloud|entercresins|gg|msn|live|dnmfarma|wde|prodigy|global-abdc|emblispack|prodigy.net|altamirano|conacorp|arquitextura)\\.com(\\.mx)?$', na=False) & ~df.emailp.isnull(), [\"emailp\"]][\"emailp\"].tolist()\n",
        "# lista_email_padres_errores, len(lista_email_padres_errores)"
      ]
    },
    {
      "cell_type": "markdown",
      "metadata": {
        "id": "mca625qrJP-m"
      },
      "source": [
        "También se procede a limpiar todos los mails con errores de transcripción, como por ejemplo:\n",
        "> cars.acd@oitlook.com\n",
        "> fmarias26@hotmaillcom\n",
        "> anyelis79@gmail,.com"
      ]
    },
    {
      "cell_type": "code",
      "execution_count": 196,
      "metadata": {
        "id": "lb_Q6yunNX9N",
        "collapsed": true
      },
      "outputs": [],
      "source": [
        "import re\n",
        "\n",
        "def clean_email(email):\n",
        "    \"\"\"\n",
        "    Limpia y corrige errores comunes de formato en direcciones de correo electrónico.\n",
        "\n",
        "    Parámetros:\n",
        "    email (str o float): La dirección de correo electrónico a limpiar. Si la entrada es un float (generalmente debido a valores faltantes),\n",
        "                         se devuelve tal cual.\n",
        "\n",
        "    Devuelve:\n",
        "    str: La dirección de correo electrónico limpia y corregida.\n",
        "\n",
        "    Descripción:\n",
        "    - Convierte el correo electrónico a minúsculas.\n",
        "    - Elimina todos los espacios.\n",
        "    - Reemplaza comas y dos puntos por puntos.\n",
        "    - Corrige errores comunes en los dominios para proveedores de correo electrónico populares como Gmail, Hotmail, Yahoo, iCloud y Outlook.\n",
        "    - Arregla otros errores comunes tanto en la parte local como en el dominio del correo electrónico.\n",
        "    - Asegura que el correo electrónico termine con un formato de dominio adecuado eliminando cualquier carácter adicional después de la extensión del dominio.\n",
        "    - Corrige correos electrónicos que erróneamente comienzan con 'q' en lugar de '@' para la parte del dominio.\n",
        "    - Asegura que el correo electrónico termine correctamente eliminando cualquier punto final después de la extensión del dominio.\n",
        "\n",
        "    Ejemplo:\n",
        "    >>> clean_email(\"Ejemplo@Gmail.con\")\n",
        "    'ejemplo@gmail.com'\n",
        "    \"\"\"\n",
        "    if isinstance(email, float):\n",
        "        return email\n",
        "    else:\n",
        "        email = email.lower()  # Convertir a minúsculas\n",
        "\n",
        "        email = re.sub(r'\\s+', '', email)\n",
        "        email = email.replace(',', '.')\n",
        "        email = email.replace(':', '.')\n",
        "\n",
        "        # Corrigiendo errores comunes de dominio\n",
        "        email = re.sub(r'@hotmail\\.(?!com)', '@hotmail.com', email)\n",
        "        email = re.sub(r'@gmail\\.(?!com)', '@gmail.com', email)\n",
        "        email = re.sub(r'@yahoo\\.(?!com|es)', '@yahoo.com', email)\n",
        "        email = re.sub(r'@icloud\\.(?!com)', '@icloud.com', email)\n",
        "        email = re.sub(r'@outlook\\.(?!com)', '@outlook.com', email)\n",
        "        email = re.sub(r'@prodigy\\.net\\.(?!mx)', '@prodigy.net.mx', email)\n",
        "\n",
        "        # Corregir otros errores comunes\n",
        "        email = re.sub(r'\\.c,$', '.com', email)\n",
        "        email = re.sub(r'\\.co,$', '.com', email)\n",
        "        email = re.sub(r'\\.con$', '.com', email)\n",
        "        email = re.sub(r'\\.xom$', '.com', email)\n",
        "        email = re.sub(r'\\.xom.mx$', '.com.mx', email)\n",
        "        email = re.sub(r'\\.lcom$', '.com', email)\n",
        "        email = re.sub(r'@jotmail', '@hotmail', email)\n",
        "        email = re.sub(r'@hormail', '@hotmail', email)\n",
        "        email = re.sub(r'@hotmaill', '@hotmail', email)\n",
        "        email = re.sub(r'@hotmai$', '@hotmail.com', email)\n",
        "        email = re.sub(r'@hotmal.com$', '@hotmail.com', email)\n",
        "        email = re.sub(r'@hotmoal.com$', '@hotmail.com', email)\n",
        "        email = re.sub(r'@htotmail.com$', '@hotmail.com', email)\n",
        "        email = re.sub(r'@hotmailcom', '@hotmail.com', email)\n",
        "        email = re.sub(r'@prdigy', '@prodigy', email)\n",
        "        email = re.sub(r'@hayoo', '@yahoo', email)\n",
        "        email = re.sub(r'@oitlook', '@outlook', email)\n",
        "        email = re.sub(r'@outlool.es$', '@outlook.es', email)\n",
        "        email = re.sub(r'@outlool.com$', '@outlook.com', email)\n",
        "        email = re.sub(r'@outloock.com$', '@outlook.com', email)\n",
        "        email = re.sub(r'@gmai$', '@gmail.com', email)\n",
        "        email = re.sub(r'@gm$', '@gmail.com', email)\n",
        "        email = re.sub(r'@gmil.com$', '@gmail.com', email)\n",
        "        email = re.sub(r'@gmial.com$', '@gmail.com', email)\n",
        "        email = re.sub(r'@gmaillcom$', '@gmail.com', email)\n",
        "        email = re.sub(r'@ocloud.com$', '@icloud.com', email)\n",
        "\n",
        "        email = re.sub(r'qgmail.com', '@gmail.com', email)\n",
        "        email = re.sub(r'qoutlook.com', '@outlook.com', email)\n",
        "        email = re.sub(r'qyahoo.com', '@yahoo.com', email)\n",
        "\n",
        "        email = re.sub(r'(\\.com).*', r'\\1', email)\n",
        "\n",
        "        # Asegurar que el correo electrónico termina correctamente\n",
        "        email = re.sub(r'(\\.[a-z]{2,4})\\.$', r'\\1', email)\n",
        "\n",
        "        return email\n",
        "\n",
        "# Aplicando la función a las columnas del DataFrame\n",
        "df['emailm_corregido'] = df['emailm'].apply(clean_email)\n",
        "df['emailp_corregido'] = df['emailp'].apply(clean_email)"
      ]
    },
    {
      "cell_type": "code",
      "execution_count": 197,
      "metadata": {
        "id": "Qb8KiI2I4Yo0"
      },
      "outputs": [],
      "source": [
        "# lista_email_padres_corregido = df.loc[~df['emailp_corregido'].str.match(r'^[A-Za-z0-9._-]+@(gmail|altamirano|glion|gruipoaresa|colpos|tepexpan|grupocoyote|multilog|multilong|mail|yahoo|hotmail|outlook|icloud|entercresins|gg|msn|live|dnmfarma|wde|prodigy|global-abdc|emblispack|prodigy.net|altamirano|conacorp|arquitextura)(\\.com)?(\\.mx)?(\\.es)?(\\.ch)?$', na=False) & ~df.emailp_corregido.isnull(), [\"emailp_corregido\"]][\"emailp_corregido\"].tolist()\n",
        "# lista_email_padres_corregido, len(lista_email_padres_corregido)"
      ]
    },
    {
      "cell_type": "markdown",
      "source": [
        "**6. Resumen Analisis realizado:**\n",
        "\n",
        "Se validó que los email de los padres fueran válidos y se verificó los que no lo eran.\n",
        "50 emails fueron corregidos ya que contenian errores de escritura.\n",
        "Quedaron 2 emails de padres invalidos despues del proceso de limpieza y filtrado"
      ],
      "metadata": {
        "id": "uFsRucvZjoia"
      }
    },
    {
      "cell_type": "code",
      "execution_count": 198,
      "metadata": {
        "id": "Y9LG9NuE49jm"
      },
      "outputs": [],
      "source": [
        "# lista_email_madres_corregidos = df.loc[~df['emailm_corregido'].str.match(r'^[A-Za-z0-9._-]+@(gmail|altamirano|glion|gruipoaresa|colpos|tepexpan|grupocoyote|multilog|multilong|mail|yahoo|hotmail|outlook|icloud|entercresins|gg|msn|live|dnmfarma|wde|prodigy|global-abdc|emblispack|prodigy.net|altamirano|conacorp|arquitextura)(\\.com)?(\\.mx)?(\\.es)?(\\.ch)?$', na=False) & ~df.emailm_corregido.isnull(), [\"emailm_corregido\"]][\"emailm_corregido\"].tolist()\n",
        "# lista_email_madres_corregidos, len(lista_email_madres_corregidos)"
      ]
    },
    {
      "cell_type": "markdown",
      "source": [
        "**7. Analisis realizado**\n",
        "\n",
        "Quedaron 4 emails de madres invalidos despues del proceso de limpieza y filtrado. Los correos de madre que quedaron son porque no tienen la suficiente informacion o validez"
      ],
      "metadata": {
        "id": "7rx61_hotQNR"
      }
    },
    {
      "cell_type": "markdown",
      "source": [
        "##- Analisis sobre emails de padres y madres"
      ],
      "metadata": {
        "id": "FgRZOReLJKXA"
      }
    },
    {
      "cell_type": "markdown",
      "source": [
        "Conteo de emails nulos para la madre:"
      ],
      "metadata": {
        "id": "KC2smgQzJn3n"
      }
    },
    {
      "cell_type": "code",
      "source": [
        "df['emailm_corregido'].isnull().sum()"
      ],
      "metadata": {
        "id": "ZKoHln6xJVTD",
        "colab": {
          "base_uri": "https://localhost:8080/"
        },
        "outputId": "0085aead-53a6-42fa-fbae-4489459366a5"
      },
      "execution_count": 199,
      "outputs": [
        {
          "output_type": "execute_result",
          "data": {
            "text/plain": [
              "94"
            ]
          },
          "metadata": {},
          "execution_count": 199
        }
      ]
    },
    {
      "cell_type": "markdown",
      "source": [
        "Conteo de emails nulos para el padre:"
      ],
      "metadata": {
        "id": "mckCizYQJscP"
      }
    },
    {
      "cell_type": "code",
      "source": [
        "df['emailp_corregido'].isnull().sum()"
      ],
      "metadata": {
        "id": "oGZD26BAJb--",
        "colab": {
          "base_uri": "https://localhost:8080/"
        },
        "outputId": "deb0fad7-c462-49ff-bbf0-39ceddbe8bd1"
      },
      "execution_count": 200,
      "outputs": [
        {
          "output_type": "execute_result",
          "data": {
            "text/plain": [
              "154"
            ]
          },
          "metadata": {},
          "execution_count": 200
        }
      ]
    },
    {
      "cell_type": "markdown",
      "source": [
        "**9. Analisis realizado:**\n",
        "\n",
        "Se puede suponer que las madres normalmente son las que llenan el formulario de los niños en el colegio ya que tienen pocos correos faltantes a comparación de los padres"
      ],
      "metadata": {
        "id": "MovVtZ_wJvXv"
      }
    },
    {
      "cell_type": "markdown",
      "metadata": {
        "id": "D2N3NTy7Ouc_"
      },
      "source": [
        "##Incongruencia:\n",
        "\n",
        "**8. Resumen Errores o datos faltantes encontrados:**\n",
        "Se puede observar los datos de dos estudiantes que pertenecen al mismo padre/madre con una discrepancia de 'ocuoap', 'emprep', uno de los dos registros\n",
        "del padre no cuenta con el email, uno de los dos registros contiene un número válido.\n"
      ]
    },
    {
      "cell_type": "code",
      "execution_count": 201,
      "metadata": {
        "id": "in2mmWT0MnWn"
      },
      "outputs": [],
      "source": [
        "# df.loc[df.clave.isin([3409, 3410])]"
      ]
    },
    {
      "cell_type": "code",
      "execution_count": 202,
      "metadata": {
        "id": "W-otwoAGZko7",
        "colab": {
          "base_uri": "https://localhost:8080/"
        },
        "outputId": "a94be5da-0c5d-4319-ce7f-d985173d6efc"
      },
      "outputs": [
        {
          "output_type": "execute_result",
          "data": {
            "text/plain": [
              "0      NaN\n",
              "3      NaN\n",
              "11     NaN\n",
              "15     NaN\n",
              "16     NaN\n",
              "      ... \n",
              "413    NaN\n",
              "415    NaN\n",
              "416    NaN\n",
              "421    NaN\n",
              "425    NaN\n",
              "Name: emailp, Length: 84, dtype: object"
            ]
          },
          "metadata": {},
          "execution_count": 202
        }
      ],
      "source": [
        "df.loc[~df.emailm.isnull() & df.emailp.isnull(), \"emailp\"]"
      ]
    },
    {
      "cell_type": "markdown",
      "metadata": {
        "id": "fxnMYx9L9EXR"
      },
      "source": [
        "**10ava Decisión tomada:**\n",
        "\n",
        "Se rellenó los valores de emailp basado en otros registros que tengan emailp de estudiantes con la misma madre (realmente no es la misma madre, es el mismo correo de madre)"
      ]
    },
    {
      "cell_type": "code",
      "execution_count": 203,
      "metadata": {
        "id": "0e7_gyrc8BR6"
      },
      "outputs": [],
      "source": [
        "df['emailp'] = df.groupby('emailm')['emailp'].transform(lambda x: x.ffill().bfill())"
      ]
    },
    {
      "cell_type": "markdown",
      "metadata": {
        "id": "2T_CdvmA9Oiu"
      },
      "source": [
        "Este es el resultado de los correos de padre que no se pudieron arreglar porque no habia mas estudiantes con que rellenar la informacion"
      ]
    },
    {
      "cell_type": "code",
      "execution_count": 204,
      "metadata": {
        "id": "YpAGK0048OFf"
      },
      "outputs": [],
      "source": [
        "# df.loc[~df.emailm.isnull() & df.emailp.isnull(), [\"emailm\", \"emailp\"]]"
      ]
    },
    {
      "cell_type": "markdown",
      "metadata": {
        "id": "DZS5XJi-9WkL"
      },
      "source": [
        "Revisamos su contraparte con emailm y vemos que no es necesario ya que no hay casos en el que el padre haya llenado mas datos de correos que la madre, asumo que las madres son las que llenan el formulario de los datos del estudiante"
      ]
    },
    {
      "cell_type": "code",
      "execution_count": 205,
      "metadata": {
        "id": "16UNIKHq8rY3",
        "colab": {
          "base_uri": "https://localhost:8080/",
          "height": 53
        },
        "outputId": "ed0e56b1-4215-4e10-836d-9fcf40f0a915"
      },
      "outputs": [
        {
          "output_type": "execute_result",
          "data": {
            "text/plain": [
              "Empty DataFrame\n",
              "Columns: [emailm, emailp]\n",
              "Index: []"
            ],
            "text/html": [
              "\n",
              "  <div id=\"df-49421f67-7155-4f4e-99d5-244cf6dbb130\" class=\"colab-df-container\">\n",
              "    <div>\n",
              "<style scoped>\n",
              "    .dataframe tbody tr th:only-of-type {\n",
              "        vertical-align: middle;\n",
              "    }\n",
              "\n",
              "    .dataframe tbody tr th {\n",
              "        vertical-align: top;\n",
              "    }\n",
              "\n",
              "    .dataframe thead th {\n",
              "        text-align: right;\n",
              "    }\n",
              "</style>\n",
              "<table border=\"1\" class=\"dataframe\">\n",
              "  <thead>\n",
              "    <tr style=\"text-align: right;\">\n",
              "      <th></th>\n",
              "      <th>emailm</th>\n",
              "      <th>emailp</th>\n",
              "    </tr>\n",
              "  </thead>\n",
              "  <tbody>\n",
              "  </tbody>\n",
              "</table>\n",
              "</div>\n",
              "    <div class=\"colab-df-buttons\">\n",
              "\n",
              "  <div class=\"colab-df-container\">\n",
              "    <button class=\"colab-df-convert\" onclick=\"convertToInteractive('df-49421f67-7155-4f4e-99d5-244cf6dbb130')\"\n",
              "            title=\"Convert this dataframe to an interactive table.\"\n",
              "            style=\"display:none;\">\n",
              "\n",
              "  <svg xmlns=\"http://www.w3.org/2000/svg\" height=\"24px\" viewBox=\"0 -960 960 960\">\n",
              "    <path d=\"M120-120v-720h720v720H120Zm60-500h600v-160H180v160Zm220 220h160v-160H400v160Zm0 220h160v-160H400v160ZM180-400h160v-160H180v160Zm440 0h160v-160H620v160ZM180-180h160v-160H180v160Zm440 0h160v-160H620v160Z\"/>\n",
              "  </svg>\n",
              "    </button>\n",
              "\n",
              "  <style>\n",
              "    .colab-df-container {\n",
              "      display:flex;\n",
              "      gap: 12px;\n",
              "    }\n",
              "\n",
              "    .colab-df-convert {\n",
              "      background-color: #E8F0FE;\n",
              "      border: none;\n",
              "      border-radius: 50%;\n",
              "      cursor: pointer;\n",
              "      display: none;\n",
              "      fill: #1967D2;\n",
              "      height: 32px;\n",
              "      padding: 0 0 0 0;\n",
              "      width: 32px;\n",
              "    }\n",
              "\n",
              "    .colab-df-convert:hover {\n",
              "      background-color: #E2EBFA;\n",
              "      box-shadow: 0px 1px 2px rgba(60, 64, 67, 0.3), 0px 1px 3px 1px rgba(60, 64, 67, 0.15);\n",
              "      fill: #174EA6;\n",
              "    }\n",
              "\n",
              "    .colab-df-buttons div {\n",
              "      margin-bottom: 4px;\n",
              "    }\n",
              "\n",
              "    [theme=dark] .colab-df-convert {\n",
              "      background-color: #3B4455;\n",
              "      fill: #D2E3FC;\n",
              "    }\n",
              "\n",
              "    [theme=dark] .colab-df-convert:hover {\n",
              "      background-color: #434B5C;\n",
              "      box-shadow: 0px 1px 3px 1px rgba(0, 0, 0, 0.15);\n",
              "      filter: drop-shadow(0px 1px 2px rgba(0, 0, 0, 0.3));\n",
              "      fill: #FFFFFF;\n",
              "    }\n",
              "  </style>\n",
              "\n",
              "    <script>\n",
              "      const buttonEl =\n",
              "        document.querySelector('#df-49421f67-7155-4f4e-99d5-244cf6dbb130 button.colab-df-convert');\n",
              "      buttonEl.style.display =\n",
              "        google.colab.kernel.accessAllowed ? 'block' : 'none';\n",
              "\n",
              "      async function convertToInteractive(key) {\n",
              "        const element = document.querySelector('#df-49421f67-7155-4f4e-99d5-244cf6dbb130');\n",
              "        const dataTable =\n",
              "          await google.colab.kernel.invokeFunction('convertToInteractive',\n",
              "                                                    [key], {});\n",
              "        if (!dataTable) return;\n",
              "\n",
              "        const docLinkHtml = 'Like what you see? Visit the ' +\n",
              "          '<a target=\"_blank\" href=https://colab.research.google.com/notebooks/data_table.ipynb>data table notebook</a>'\n",
              "          + ' to learn more about interactive tables.';\n",
              "        element.innerHTML = '';\n",
              "        dataTable['output_type'] = 'display_data';\n",
              "        await google.colab.output.renderOutput(dataTable, element);\n",
              "        const docLink = document.createElement('div');\n",
              "        docLink.innerHTML = docLinkHtml;\n",
              "        element.appendChild(docLink);\n",
              "      }\n",
              "    </script>\n",
              "  </div>\n",
              "\n",
              "\n",
              "    </div>\n",
              "  </div>\n"
            ],
            "application/vnd.google.colaboratory.intrinsic+json": {
              "type": "dataframe",
              "repr_error": "Out of range float values are not JSON compliant: nan"
            }
          },
          "metadata": {},
          "execution_count": 205
        }
      ],
      "source": [
        "df.loc[~df.emailp.isnull() & df.emailm.isnull(), [\"emailm\", \"emailp\"]]"
      ]
    },
    {
      "cell_type": "markdown",
      "metadata": {
        "id": "xXbXU2_rMio8"
      },
      "source": [
        "Este procedimiento de agrupacion y llenar por algun registro con email, telefono, nombre entre otros podria ser util para rellenar uno que otro campo, pero en el efecto practico de este ejercicio se evidencio que solo 3 registros fueron actualizados con este metodo lo cual represanta tan solo un 3.5% de los registros que le falta esos datos, asi que por temas de tiempo y que estos datos de correo, numero de tlf entre otros no son tan necesarios para un análisis descriptivo se dejará asi por ahora"
      ]
    },
    {
      "cell_type": "markdown",
      "source": [
        "### Se procede a eliminar las columnas sucias y a dejar las que se filtraron y limpiaron"
      ],
      "metadata": {
        "id": "HMK-WrMSK6jb"
      }
    },
    {
      "cell_type": "code",
      "source": [
        "columnas_emails_sin_transformar = ['emailm', 'emailp']\n",
        "df = df.drop(columnas_emails_sin_transformar, axis=1)"
      ],
      "metadata": {
        "id": "snDEWiELKmkR"
      },
      "execution_count": 206,
      "outputs": []
    },
    {
      "cell_type": "markdown",
      "metadata": {
        "id": "Wds3R-Rs-PR-"
      },
      "source": [
        "## - Validación y limpieza de números telefonicos"
      ]
    },
    {
      "cell_type": "markdown",
      "metadata": {
        "id": "jKzrsbvwOpWG"
      },
      "source": [
        "### Validacion para los numeros de telefono celular de las madres"
      ]
    },
    {
      "cell_type": "markdown",
      "metadata": {
        "id": "u5IuPj8pODoQ"
      },
      "source": [
        "Validamos que no existan números de telefono inválidos para México: < a 10 Digitos\n",
        "o > a 10 digitos"
      ]
    },
    {
      "cell_type": "code",
      "execution_count": 207,
      "metadata": {
        "id": "qlrMlyDeOYUS"
      },
      "outputs": [],
      "source": [
        "# numero_no_valido = df[(df['celularm'].str.len() < 10) |( df['celularm'].str.len() > 10)]\n",
        "# print(numero_no_valido['celularm'], numero_no_valido['celularm'].count())"
      ]
    },
    {
      "cell_type": "markdown",
      "metadata": {
        "id": "chKhhKkJXTii"
      },
      "source": [
        "5 registros telefonicos de las madres son inválidos"
      ]
    },
    {
      "cell_type": "markdown",
      "metadata": {
        "id": "qYjaI43QYvFy"
      },
      "source": [
        "Cantidad de registros totales de números telefonicos con código de México '+5', '222' y '771':"
      ]
    },
    {
      "cell_type": "code",
      "execution_count": 208,
      "metadata": {
        "id": "so7IW_27YqJ0"
      },
      "outputs": [],
      "source": [
        "# codigo_valido_para_mexico = df[df['celularm'].str.match(r'^5', na=False)]\n",
        "# conteo_numeros_validos = codigo_valido_para_mexico.shape[0]\n",
        "# print(conteo_numeros_validos)"
      ]
    },
    {
      "cell_type": "markdown",
      "metadata": {
        "id": "Kfm4DqsS_Xvw"
      },
      "source": [
        "365 registros de celulares de las madres de Mexico son validos"
      ]
    },
    {
      "cell_type": "code",
      "execution_count": 209,
      "metadata": {
        "id": "7HD7T_s8_iPu"
      },
      "outputs": [],
      "source": [
        "# celular_madres_mexicanas_no_validos = df[~df['celularm'].str.match(r'^(5|222|771)', na=False) & ~df['celularm'].isnull()][\"celularm\"].tolist()\n",
        "# print(celular_madres_mexicanas_no_validos)\n",
        "# print(len(celular_madres_mexicanas_no_validos))"
      ]
    },
    {
      "cell_type": "markdown",
      "metadata": {
        "id": "HS7V6sErAQiw"
      },
      "source": [
        "Al parecer hay 7 numeros de madres que no empiezan con el prefijo +5, por lo tanto se tomaran como numeros extranjeros"
      ]
    },
    {
      "cell_type": "markdown",
      "metadata": {
        "id": "CPLbsceCAp1X"
      },
      "source": [
        "Ahora se procede a limpiar posibles numeros con espacios, guiones y se contaran los numeros validos de nuevo"
      ]
    },
    {
      "cell_type": "code",
      "execution_count": 210,
      "metadata": {
        "id": "g0ZSC8-sAzhF"
      },
      "outputs": [],
      "source": [
        "df['celularm'] = df['celularm'].str.replace(\" \", \"\")\n",
        "df['celularm'] = df['celularm'].str.replace(\"-\", \"\")\n",
        "df['celularm'] = df['celularm'].str.replace(\".\", \"\")\n",
        "df['celularm'] = df['celularm'].str.replace(\",\", \"\")\n",
        "df['celularm'] = df['celularm'].str.replace(\" \", \"\")"
      ]
    },
    {
      "cell_type": "code",
      "execution_count": 211,
      "metadata": {
        "id": "TCYSqHkuBDMb"
      },
      "outputs": [],
      "source": [
        "# CELULAR MADRE\n",
        "# numero_no_valido_en_mexico = df[(df['celularm'].str.len() < 10) |( df['celularm'].str.len() > 10)]\n",
        "# print(numero_no_valido_en_mexico['celularm'], numero_no_valido_en_mexico['celularm'].count())"
      ]
    },
    {
      "cell_type": "markdown",
      "metadata": {
        "id": "p2OibW9JBSgq"
      },
      "source": [
        "Se arreglo un numero de telefono extranjero"
      ]
    },
    {
      "cell_type": "code",
      "execution_count": 212,
      "metadata": {
        "id": "T09ppnrKBT2I"
      },
      "outputs": [],
      "source": [
        "# CELULAR MADRE\n",
        "numero_valido_en_mexico = df[df['celularm'].str.match(r'^(5|222|771)', na=False)]\n",
        "conteo_de_numeros_validos = numero_valido_en_mexico.shape[0]"
      ]
    },
    {
      "cell_type": "markdown",
      "metadata": {
        "id": "ORSzDUnZBdyt"
      },
      "source": [
        "Se arreglo un numero de telefono mexicano"
      ]
    },
    {
      "cell_type": "markdown",
      "source": [
        "**11ava Decisión tomada:**\n",
        "\n",
        "Se decidió filtrar y limpiar por los números válidos en méxico de las madres\n",
        "\n",
        "**Explicación:**\n",
        "\n",
        "Arreglar estos datos de manera precisa y válida aseguran que el colegio pueda comunicarse de manera eficiente y oportuna con los padres en situaciones de emergencia, eventos escolares y otras necesidades importantes."
      ],
      "metadata": {
        "id": "46Uos9JzOvtb"
      }
    },
    {
      "cell_type": "markdown",
      "metadata": {
        "id": "jX76l-MKO7rK"
      },
      "source": [
        "###Validacion de numeros de telefono celular de padres"
      ]
    },
    {
      "cell_type": "code",
      "source": [
        "# df['celularp']"
      ],
      "metadata": {
        "id": "XtgoO0pXytDK"
      },
      "execution_count": 213,
      "outputs": []
    },
    {
      "cell_type": "markdown",
      "metadata": {
        "id": "XjdNa9yweMEz"
      },
      "source": [
        "**9. Errores o datos faltantes encontrados:**\n",
        "\n",
        "Se evidencia que los datos de los números telefonicos de los padres se encuentra en formato cientificos, por lo que se transformara a formato valido\n",
        "> 5.534310e+09"
      ]
    },
    {
      "cell_type": "code",
      "execution_count": 214,
      "metadata": {
        "id": "fckw1GTURyuc"
      },
      "outputs": [],
      "source": [
        "df['celularp'] = df['celularp'].astype('Int64')\n",
        "df['celularp'] = df['celularp'].astype(str)\n",
        "df.loc[df.celularp==\"<NA>\", \"celularp\"] = None"
      ]
    },
    {
      "cell_type": "code",
      "execution_count": 215,
      "metadata": {
        "id": "5K0L94MRBj-1"
      },
      "outputs": [],
      "source": [
        "# numero_no_valido_padres = df[~df['celularp'].isna() & ((df['celularp'].str.len() < 10) |( df['celularp'].str.len() > 10))]\n",
        "# print(numero_no_valido_padres['celularp'], numero_no_valido_padres['celularp'].count())\n"
      ]
    },
    {
      "cell_type": "markdown",
      "metadata": {
        "id": "90Bw0FoiX-Ri"
      },
      "source": [
        "Se evidenció 4 numeros telefonicos mayor-menor a 10 digitos"
      ]
    },
    {
      "cell_type": "markdown",
      "metadata": {
        "id": "uA8iX1HCZlWD"
      },
      "source": [
        "Cantidad de registros totales de números telefonicos con código de México '+5' y 771, 222:"
      ]
    },
    {
      "cell_type": "code",
      "execution_count": 216,
      "metadata": {
        "id": "WuCnryE8X9UO",
        "colab": {
          "base_uri": "https://localhost:8080/"
        },
        "outputId": "c1419260-747c-4f1c-dc72-ad469ad47ba2"
      },
      "outputs": [
        {
          "output_type": "stream",
          "name": "stdout",
          "text": [
            "329\n"
          ]
        }
      ],
      "source": [
        "codigo_valido_para_mexico_padres = df[df['celularp'].str.match(r'^(5|222|771)', na=False)]\n",
        "conteo_numeros_validos_padres = codigo_valido_para_mexico_padres.shape[0]\n",
        "print(conteo_numeros_validos_padres)"
      ]
    },
    {
      "cell_type": "markdown",
      "metadata": {
        "id": "PZ3-tbvLaCw1"
      },
      "source": [
        "329 registros de celulares de los padres de Mexico son validos"
      ]
    },
    {
      "cell_type": "code",
      "execution_count": 217,
      "metadata": {
        "id": "Bwx2ZFT7aQB6"
      },
      "outputs": [],
      "source": [
        "# celular_padres_mexicanos_no_validos = df[~df['celularp'].str.match(r'^(5|222|771)', na=False) & df['celularp'].notna()][\"celularp\"].tolist()\n",
        "# print(celular_padres_mexicanos_no_validos)\n",
        "# print(len(celular_padres_mexicanos_no_validos))"
      ]
    },
    {
      "cell_type": "markdown",
      "metadata": {
        "id": "JwGkIn8UfYcc"
      },
      "source": [
        "Se evidencia 6 numeros de telefonos de padres que pueden provenir del extranjero, de otro codigo de area en mexico"
      ]
    },
    {
      "cell_type": "markdown",
      "source": [
        "**12ava Decisión tomada:**\n",
        "\n",
        "Se decidió filtrar y limpiar por los números válidos en méxico de los padres\n",
        "\n",
        "**Explicación:**\n",
        "\n",
        "Arreglar estos datos de manera precisa y válida aseguran que el colegio pueda comunicarse de manera eficiente y oportuna con los padres en situaciones de emergencia, eventos escolares y otras necesidades importantes."
      ],
      "metadata": {
        "id": "rUGDXCtSPbho"
      }
    },
    {
      "cell_type": "markdown",
      "source": [
        "###Validacion de numeros  de telefono de estudiante"
      ],
      "metadata": {
        "id": "FsILst7FCNZA"
      }
    },
    {
      "cell_type": "code",
      "source": [
        "df['tela'] = df['tela'].str.replace(\" \", \"\")\n",
        "df['tela'] = df['tela'].str.replace(\"-\", \"\")\n",
        "df['tela'] = df['tela'].str.replace(\".\", \"\")\n",
        "df['tela'] = df['tela'].str.replace(\",\", \"\")"
      ],
      "metadata": {
        "id": "BUHytHX1CmkO"
      },
      "execution_count": 218,
      "outputs": []
    },
    {
      "cell_type": "code",
      "source": [
        "# numero_no_valido_estudiantes = df[~df['tela'].isna() & ((df['tela'].str.len() < 10) |( df['tela'].str.len() > 10))]\n",
        "# print(numero_no_valido_estudiantes['tela'], numero_no_valido_estudiantes['tela'].count())"
      ],
      "metadata": {
        "id": "ikAcnp1rCSKR"
      },
      "execution_count": 219,
      "outputs": []
    },
    {
      "cell_type": "markdown",
      "source": [
        "Se verifica los numeros validos para Mexico con los 3 codigos de area mas comunes"
      ],
      "metadata": {
        "id": "x_l_5yqmOTL3"
      }
    },
    {
      "cell_type": "code",
      "source": [
        "codigo_valido_para_mexico = df[df['tela'].str.match(r'^(5|222|771)', na=False)]\n",
        "conteo_numeros_validos = codigo_valido_para_mexico.shape[0]\n",
        "print(conteo_numeros_validos)"
      ],
      "metadata": {
        "id": "_8Tq05_yDIRV",
        "colab": {
          "base_uri": "https://localhost:8080/"
        },
        "outputId": "ad487744-730b-403c-bc46-cb29562afb27"
      },
      "execution_count": 220,
      "outputs": [
        {
          "output_type": "stream",
          "name": "stdout",
          "text": [
            "378\n"
          ]
        }
      ]
    },
    {
      "cell_type": "markdown",
      "source": [
        "378 números de estudiantes son validos para Mexico"
      ],
      "metadata": {
        "id": "Hr_nCTyHEsDD"
      }
    },
    {
      "cell_type": "code",
      "source": [
        "# celular_estudiantes_mexicanos_no_validos = df[~df['tela'].str.match(r'^5', na=False) & ~df['tela'].isnull()][\"tela\"].tolist()\n",
        "# print(celular_estudiantes_mexicanos_no_validos)\n",
        "# print(len(celular_estudiantes_mexicanos_no_validos))"
      ],
      "metadata": {
        "id": "qM0gkNTeE80e"
      },
      "execution_count": 221,
      "outputs": []
    },
    {
      "cell_type": "markdown",
      "source": [
        "Estos 21 registros de numeros telefonicos pueden ser registros de numeros de una casa, o numeros extranjeros"
      ],
      "metadata": {
        "id": "5m18tQHbMSQv"
      }
    },
    {
      "cell_type": "markdown",
      "source": [
        "**13ava Decisión tomada:**\n",
        "\n",
        "Se decidió filtrar y limpiar por los números válidos en méxico de los estudiantes\n",
        "\n",
        "**Explicación:**\n",
        "\n",
        "Arreglar estos datos de números telefónicos correctos asegura que el colegio pueda comunicarse directamente con los estudiantes para informarles sobre eventos, cambios de horario, para verificar su seguridad, darles recordatorios y otras noticias importantes."
      ],
      "metadata": {
        "id": "g-_6-hbsPguo"
      }
    },
    {
      "cell_type": "markdown",
      "source": [
        "## - Validación de transcripción de datos sobre la columna nacionalidad y poblado"
      ],
      "metadata": {
        "id": "XZjZsmi5AIpt"
      }
    },
    {
      "cell_type": "markdown",
      "source": [
        "###Columna 'naciona':"
      ],
      "metadata": {
        "id": "6cc4IMDeAUyW"
      }
    },
    {
      "cell_type": "markdown",
      "source": [
        "**10. Errores o datos faltantes encontrados:**\n",
        "\n",
        "Dentro de la columna \"naciona\" podemos encontar incongruencias o problemas de transcripción en la misma"
      ],
      "metadata": {
        "id": "AiJDwqLqArE0"
      }
    },
    {
      "cell_type": "code",
      "source": [
        "df['naciona']\n",
        "df.loc[df.naciona.isin([\"M4EXICANA\", \"MEXCANA\", \"MEXIANA\", \"MEXCCIANA\", \"MEXCIANA\", \"MEXCINA\",\"MEXCANA\", \"MEXICAN A\", \"MEXICANA/E\", \"MEXICANA/H\", \"MEXICO\", \"MEXIXQNA\", \"MEXICA NA\", \"MEXICANA |\", \"MEXICQNA\", \"MEXICANO\", \"MEXICANAQ\", \"MEXICNA\"]), \"naciona\"] = \"MEXICANA\""
      ],
      "metadata": {
        "id": "Z9HTyD8aAVwI"
      },
      "execution_count": 222,
      "outputs": []
    },
    {
      "cell_type": "markdown",
      "source": [
        "## -Limpieza dentro de la columna \"pedi\""
      ],
      "metadata": {
        "id": "B72onuDtUcK8"
      }
    },
    {
      "cell_type": "code",
      "source": [
        "# df['pedi'].tolist()"
      ],
      "metadata": {
        "id": "5HZhbRGoUle5"
      },
      "execution_count": 223,
      "outputs": []
    },
    {
      "cell_type": "markdown",
      "source": [
        "**16ava Decisión tomada:**\n",
        "\n",
        "Procedemos a arreglar los registros que esten mal escritos o caracteres inoportunos\n",
        "\n",
        "**Explicación:**\n",
        "A pesar de ser pequeñas variaciones, mantener la consistencia en el formato de los datos asegura que la información sea clara y fácil de entender para el equipo y el colegio"
      ],
      "metadata": {
        "id": "ZekpmMmPUrKI"
      }
    },
    {
      "cell_type": "code",
      "source": [
        "df['pedi'] = df['pedi'].str.replace(r',', '.', regex=True)\n",
        "df['pedi'] = df['pedi'].str.replace(r'\\.\\.', '.', regex=True)\n"
      ],
      "metadata": {
        "id": "FYTmmMBkVCuQ"
      },
      "execution_count": 224,
      "outputs": []
    },
    {
      "cell_type": "code",
      "source": [
        "# df['pedi'].tolist()"
      ],
      "metadata": {
        "id": "cChW9GsgVEjY"
      },
      "execution_count": 225,
      "outputs": []
    },
    {
      "cell_type": "markdown",
      "source": [
        "#3- Transformación de datos"
      ],
      "metadata": {
        "id": "TjHwSLpVrapw"
      }
    },
    {
      "cell_type": "markdown",
      "source": [
        "## - Estandarización de nombres:"
      ],
      "metadata": {
        "id": "7qEGsOm_rhoq"
      }
    },
    {
      "cell_type": "code",
      "source": [
        "# for i in df.columns:\n",
        "#     if df[i].dtype == 'object':\n",
        "#       if i != 'sexo':\n",
        "#         df[i] = df[i].str.lower()\n",
        "#       else:\n",
        "#         df[i] = df[i].str.upper()\n",
        "# df.head(20)"
      ],
      "metadata": {
        "collapsed": true,
        "id": "xBFihW8jr6cl"
      },
      "execution_count": 226,
      "outputs": []
    },
    {
      "cell_type": "markdown",
      "source": [
        "**14ava Decisión tomada:**\n",
        "\n",
        "Se estandarizó todas las columnas de texto a excepcion de la columna de texto a minúsculas\n",
        "\n",
        "**Explicación:**\n",
        "Estandarizar el formato del texto garantiza que los datos sean consistentes a lo largo del conjunto de datos, evitando errores de transcripción(como estaba el df antes de limpiarlo), facilitando su comprensión, búsqueda y análisis.\n"
      ],
      "metadata": {
        "id": "dvFEmaU7Q4EH"
      }
    },
    {
      "cell_type": "markdown",
      "source": [
        "##- Creacion de la columna edad\n",
        "\n",
        "**15ava Decisión tomada:**\n",
        "Ya que no se proporcionan informacion de edad de los estudiantes, se procede a crear una columna de 'edad' creada a partir de la fecha de nacimiento y la fecha actual\n",
        "\n",
        "**Explicación:**\n",
        "\n",
        "Aparte de que es uno de los datos MAS fundamentales dentro de una base de datos de un colegio, permite realizar análisis cruciales como por ejemplo:\n",
        "    * Numero de alumnos más adelantados con respecto a su grado y edad\n",
        "    * Numero de alumnos más atrasados con respecto a su grado y edad\n",
        "Esto puede darle al colegio una tendencia de los estudiantes más brillantes y los que necesitan un poco más de ayuda y en este caso, prestarle más atención.\n"
      ],
      "metadata": {
        "id": "lGIRuwyACWq8"
      }
    },
    {
      "cell_type": "code",
      "source": [
        "today =pd.to_datetime('today')\n",
        "df['Date_fecnaca'] = pd.to_datetime(df['Date_fecnaca'], format='%m%d%y')\n",
        "df['Date_fecnaca'] = df['Date_fecnaca'].where(df['Date_fecnaca'] < today, df['Date_fecnaca'] -  np.timedelta64(100, 'Y'))\n",
        "df[\"edad\"] = df[\"Date_fecnaca\"].apply(lambda x : (pd.to_datetime('today').year - x.year))\n",
        "# df.head(10)"
      ],
      "metadata": {
        "id": "w8Y2eNBOCJyL"
      },
      "execution_count": 227,
      "outputs": []
    },
    {
      "cell_type": "markdown",
      "source": [
        "# 4- Análisis"
      ],
      "metadata": {
        "id": "oFLwNrTA_t3d"
      }
    },
    {
      "cell_type": "markdown",
      "metadata": {
        "id": "bZ57R-tQlEs3"
      },
      "source": [
        "## - Casos atípicos en nivel, grado, porcol, porins"
      ]
    },
    {
      "cell_type": "code",
      "execution_count": 228,
      "metadata": {
        "id": "kaSJDdSWo4JX",
        "colab": {
          "base_uri": "https://localhost:8080/"
        },
        "outputId": "fcbc6f5b-5dbb-4e49-8fb4-aa372143f37d"
      },
      "outputs": [
        {
          "output_type": "execute_result",
          "data": {
            "text/plain": [
              "6"
            ]
          },
          "metadata": {},
          "execution_count": 228
        }
      ],
      "source": [
        "df['grado'].max()"
      ]
    },
    {
      "cell_type": "markdown",
      "metadata": {
        "id": "iSqtfPnRslj6"
      },
      "source": [
        "grado maximo"
      ]
    },
    {
      "cell_type": "markdown",
      "metadata": {
        "id": "mYl0hab0spMc"
      },
      "source": [
        "grado minimo"
      ]
    },
    {
      "cell_type": "code",
      "execution_count": 229,
      "metadata": {
        "id": "GoJFdvKzshpr",
        "colab": {
          "base_uri": "https://localhost:8080/"
        },
        "outputId": "de2972e8-652f-4738-d371-dbaaaa9d477e"
      },
      "outputs": [
        {
          "output_type": "execute_result",
          "data": {
            "text/plain": [
              "0"
            ]
          },
          "metadata": {},
          "execution_count": 229
        }
      ],
      "source": [
        "df['grado'].min()"
      ]
    },
    {
      "cell_type": "code",
      "execution_count": 230,
      "metadata": {
        "id": "tkak_X1vDHPD",
        "colab": {
          "base_uri": "https://localhost:8080/"
        },
        "outputId": "f1269908-1734-4153-dd85-32ac166e82e4"
      },
      "outputs": [
        {
          "output_type": "execute_result",
          "data": {
            "text/plain": [
              "grado\n",
              "0     4.176334\n",
              "1    22.041763\n",
              "2    20.417633\n",
              "3    26.450116\n",
              "4     9.744780\n",
              "5     7.656613\n",
              "6     9.512761\n",
              "Name: clave, dtype: float64"
            ]
          },
          "metadata": {},
          "execution_count": 230
        }
      ],
      "source": [
        "df.groupby('grado').count()[\"clave\"] / 431 *100"
      ]
    },
    {
      "cell_type": "markdown",
      "metadata": {
        "id": "uLz_gE7gDRQO"
      },
      "source": [
        "**9. Análisis realizado:**\n",
        "\n",
        "Se puede evidenciar que los alumnos se concentran mas en los grados intermedios, siendo el grado 0 el que menos estudiantes tiene asignado y el grado con 3 con mayor numero de estudiantes"
      ]
    },
    {
      "cell_type": "markdown",
      "metadata": {
        "id": "lAIyGXDpsrM2"
      },
      "source": [
        "Se evalua que no hay valores atípicos en la columna grado\n",
        "\n",
        "\n"
      ]
    },
    {
      "cell_type": "code",
      "execution_count": 231,
      "metadata": {
        "id": "IBzWd4KVs7CT",
        "colab": {
          "base_uri": "https://localhost:8080/"
        },
        "outputId": "dcfb5f13-6e5e-4a92-dcbd-083329c665bb"
      },
      "outputs": [
        {
          "output_type": "execute_result",
          "data": {
            "text/plain": [
              "2"
            ]
          },
          "metadata": {},
          "execution_count": 231
        }
      ],
      "source": [
        "df['nivel'].max()"
      ]
    },
    {
      "cell_type": "code",
      "execution_count": 232,
      "metadata": {
        "id": "rFN2z_y6tXvv",
        "colab": {
          "base_uri": "https://localhost:8080/"
        },
        "outputId": "5b4cf113-3e5f-408d-baf9-034d1c79fc46"
      },
      "outputs": [
        {
          "output_type": "execute_result",
          "data": {
            "text/plain": [
              "0"
            ]
          },
          "metadata": {},
          "execution_count": 232
        }
      ],
      "source": [
        "df['nivel'].min()"
      ]
    },
    {
      "cell_type": "code",
      "execution_count": 233,
      "metadata": {
        "id": "c4l2c-2LDo3Q",
        "colab": {
          "base_uri": "https://localhost:8080/"
        },
        "outputId": "bcb1f902-67bf-47b5-ed43-d33bc2439a1c"
      },
      "outputs": [
        {
          "output_type": "execute_result",
          "data": {
            "text/plain": [
              "nivel\n",
              "0    19.025522\n",
              "1    51.508121\n",
              "2    29.466357\n",
              "Name: clave, dtype: float64"
            ]
          },
          "metadata": {},
          "execution_count": 233
        }
      ],
      "source": [
        "df.groupby('nivel').count()[\"clave\"] / 431 *100"
      ]
    },
    {
      "cell_type": "markdown",
      "metadata": {
        "id": "8loXb4PrtpZz"
      },
      "source": [
        "El mayor porcentaje de nivel es concentrado en el nivel 1"
      ]
    },
    {
      "cell_type": "code",
      "execution_count": 234,
      "metadata": {
        "id": "aDH76aKWt7-v",
        "colab": {
          "base_uri": "https://localhost:8080/"
        },
        "outputId": "af5db98a-088f-4566-d300-b4f8977b31fe"
      },
      "outputs": [
        {
          "output_type": "execute_result",
          "data": {
            "text/plain": [
              "(100,\n",
              " 0,\n",
              " porcol\n",
              " 0       4.872390\n",
              " 1       0.232019\n",
              " 30      0.232019\n",
              " 35      0.232019\n",
              " 75      1.392111\n",
              " 80      0.232019\n",
              " 85      0.232019\n",
              " 90      2.320186\n",
              " 95      0.464037\n",
              " 100    89.791183\n",
              " Name: clave, dtype: float64)"
            ]
          },
          "metadata": {},
          "execution_count": 234
        }
      ],
      "source": [
        "df['porcol'].max(), df['porcol'].min(), df.groupby('porcol').count()[\"clave\"] / 431 *100"
      ]
    },
    {
      "cell_type": "markdown",
      "source": [
        "Viendo estos datos se evidencia que el 'porcol' de valor 100 es el que se lleva el mayor porcentaje. A mi criterio, esta columna significa las notas de los estudiantes siendo el 90% los estudiantes con el tope de la nota. Lo que nos indica que es un buen colegio"
      ],
      "metadata": {
        "id": "ieHDSNFZJ9v2"
      }
    },
    {
      "cell_type": "markdown",
      "metadata": {
        "id": "sbaQ8Uofj8E0"
      },
      "source": [
        "## -Validación valores atípicos sobre la columna nacionalidad y poblado"
      ]
    },
    {
      "cell_type": "markdown",
      "metadata": {
        "id": "6zcrdm81kFQa"
      },
      "source": [
        "## -Valores atípicos en la columna naciona"
      ]
    },
    {
      "cell_type": "code",
      "execution_count": 235,
      "metadata": {
        "id": "DCZ4BXssEKa2",
        "colab": {
          "base_uri": "https://localhost:8080/"
        },
        "outputId": "223ffa13-2aab-48f8-eaba-81dbb633b5d0"
      },
      "outputs": [
        {
          "output_type": "execute_result",
          "data": {
            "text/plain": [
              "naciona\n",
              "CHINO        0.232019\n",
              "MEXICANA    99.071926\n",
              "Name: clave, dtype: float64"
            ]
          },
          "metadata": {},
          "execution_count": 235
        }
      ],
      "source": [
        "df.groupby('naciona').count()[\"clave\"] / 431 *100"
      ]
    },
    {
      "cell_type": "markdown",
      "metadata": {
        "id": "xIrssKW4f-oP"
      },
      "source": [
        "**10. Analisis realizado:**\n",
        "\n",
        "Aproximadamente el 99.1% pertenecen a la población de estudiantes mexicanos mientras que apenas aproximadamente el 0.23% pertence a la poblacion china.\n",
        "\n",
        "Siendo el caso atípico nacionalidad china\n",
        "\n"
      ]
    },
    {
      "cell_type": "markdown",
      "source": [
        "##- Valores atípicos en la columna pobla"
      ],
      "metadata": {
        "id": "F9BH_QQiA6x0"
      }
    },
    {
      "cell_type": "markdown",
      "source": [
        "###Columna 'pobla':"
      ],
      "metadata": {
        "id": "Nvx3OnOAQZHm"
      }
    },
    {
      "cell_type": "code",
      "source": [
        "df['pobla'].tolist()\n",
        "print(df['pobla'].shape[0])"
      ],
      "metadata": {
        "id": "wvGRZ2RyQjot",
        "colab": {
          "base_uri": "https://localhost:8080/"
        },
        "outputId": "56e9ea11-dfba-4f3d-93e4-f05a0594d9d1"
      },
      "execution_count": 236,
      "outputs": [
        {
          "output_type": "stream",
          "name": "stdout",
          "text": [
            "431\n"
          ]
        }
      ]
    },
    {
      "cell_type": "code",
      "source": [
        "df.loc[df['pobla'].str.startswith('TEX', na=False), 'pobla'] = 'TEXCOCO'\n",
        "df.loc[df['pobla'].str.startswith(' TEX', na=False), 'pobla'] = 'TEXCOCO'\n",
        "df.loc[df['pobla'].str.startswith('TGEX', na=False), 'pobla'] = 'TEXCOCO'\n",
        "df.loc[df['pobla'].str.startswith('ATE', na=False), 'pobla'] = 'ATENCO'\n",
        "df.loc[df['pobla'].str.startswith('TEP', na=False), 'pobla'] = 'TEPEXPAN'\n",
        "df.loc[df['pobla'].str.startswith('TEZ', na=False), 'pobla'] = 'TEZOYUCA'\n",
        "df.loc[df['pobla'].str.startswith('SAN S', na=False), 'pobla'] = 'SAN SIMON'\n",
        "df.loc[df['pobla'].str.startswith('CHICOL', na=False), 'pobla'] = 'CHICOLOAPAN'\n",
        "df.loc[df['pobla'].str.startswith('CHIAUT', na=False), 'pobla'] = 'CHIAUTLA'\n",
        "df.loc[df['pobla'].str.startswith('PAPAL', na=False), 'pobla'] = 'PAPALOTLA'\n",
        "df.loc[df['pobla'].str.startswith('CHICONC', na=False), 'pobla'] = 'CHICONCUAC'\n",
        "df.loc[df['pobla'].str.startswith('ACOLM', na=False), 'pobla'] = 'ACOLMAN'\n",
        "df.loc[df['pobla'].str.startswith('NEZAHU', na=False), 'pobla'] = 'NEZAHUALCO'\n",
        "df.loc[df['pobla'].str.startswith('CIUDAD DE', na=False), 'pobla'] = 'CIUDAD DE MEXICO'\n",
        "df.loc[df['pobla'].str.startswith('CHIMALHUAC', na=False), 'pobla'] = 'CHIMALHUACAN'\n",
        "df.loc[df['pobla'].str.startswith('CHICOLOAPA', na=False), 'pobla'] = 'CHICOLOAPAN'\n",
        "df.loc[df['pobla'].str.startswith('IXZTAPA', na=False), 'pobla'] = 'IZTAPALAPA'"
      ],
      "metadata": {
        "id": "fxHhIEU5UiiW"
      },
      "execution_count": 237,
      "outputs": []
    },
    {
      "cell_type": "code",
      "source": [
        "df['pobla'].tolist()\n",
        "print(df['pobla'])"
      ],
      "metadata": {
        "id": "Y1_Vrt6bcRlY",
        "colab": {
          "base_uri": "https://localhost:8080/"
        },
        "outputId": "4b82d0e0-22e5-4f3a-b1a6-91c0f0ed770c"
      },
      "execution_count": 238,
      "outputs": [
        {
          "output_type": "stream",
          "name": "stdout",
          "text": [
            "0          TEXCOCO\n",
            "1          TEXCOCO\n",
            "2       XOCOTLAN,T\n",
            "3      CHICOLOAPAN\n",
            "4          TEXCOCO\n",
            "          ...     \n",
            "426        TEXCOCO\n",
            "427        TEXCOCO\n",
            "428        TEXCOCO\n",
            "429            NaN\n",
            "430        TEXCOCO\n",
            "Name: pobla, Length: 431, dtype: object\n"
          ]
        }
      ]
    },
    {
      "cell_type": "code",
      "source": [
        "df.groupby('pobla').count()[\"clave\"] / 431 *100"
      ],
      "metadata": {
        "id": "lND36sFaRRtL",
        "colab": {
          "base_uri": "https://localhost:8080/"
        },
        "outputId": "5b618705-b12e-4bdf-e7c3-09141fff7e3c"
      },
      "execution_count": 239,
      "outputs": [
        {
          "output_type": "execute_result",
          "data": {
            "text/plain": [
              "pobla\n",
              "ACIOLMAN,M           0.232019\n",
              "ACOLMAN              1.160093\n",
              "ACUEXCOMAC           0.232019\n",
              "ATENCO               2.784223\n",
              "CHIAUTLA             6.960557\n",
              "CHICOLOAPAN          3.944316\n",
              "CHICONCUAC          11.136891\n",
              "CHIICONCUA           0.232019\n",
              "CHIMALHUACAN         0.928074\n",
              "CIUDAD DE MEXICO     0.232019\n",
              "CUATLINCHA           0.232019\n",
              "EDO. MEX.            0.464037\n",
              "IXTAPAN,AT           0.232019\n",
              "IZTACALCO            0.232019\n",
              "IZTAPALAPA           0.232019\n",
              "LOS REYES            0.232019\n",
              "MEXICO               0.232019\n",
              "NEZAHUALCO           0.464037\n",
              "PAPALOTLA            1.856148\n",
              "SAN SIMON            0.464037\n",
              "SAN VICENT           0.232019\n",
              "TECAMAC,ED           0.232019\n",
              "TEPEXPAN             2.320186\n",
              "TEXCOCO             61.484919\n",
              "TEZOYUCA             0.928074\n",
              "VALLE DE S           0.232019\n",
              "XOCOTLAN,T           0.464037\n",
              "Name: clave, dtype: float64"
            ]
          },
          "metadata": {},
          "execution_count": 239
        }
      ]
    },
    {
      "cell_type": "markdown",
      "source": [
        "**11. Análisis realizado:**\n",
        "\n",
        "\n",
        "La gran mayoria de estudiantes, aproximadamente el 61% vienen de texcoco, el porcentaje de otras direcciones es muy bajo en comparacion (siendo el segundo CHICONCUAC con casi 11%)"
      ],
      "metadata": {
        "id": "rjJROysXRvJ6"
      }
    },
    {
      "cell_type": "markdown",
      "source": [
        "## -Datos atipicos en las columnas digban y digito"
      ],
      "metadata": {
        "id": "OWm8w9bASt5_"
      }
    },
    {
      "cell_type": "markdown",
      "source": [
        "###Columna digban:"
      ],
      "metadata": {
        "id": "YJg6NG8DS0G6"
      }
    },
    {
      "cell_type": "code",
      "source": [
        "df.groupby('digban').count()[\"clave\"] / 431 *100"
      ],
      "metadata": {
        "id": "HcnWjeCgS3iK",
        "colab": {
          "base_uri": "https://localhost:8080/"
        },
        "outputId": "55dc3ac1-0220-44f8-883e-c05f689d4bc6"
      },
      "execution_count": 240,
      "outputs": [
        {
          "output_type": "execute_result",
          "data": {
            "text/plain": [
              "digban\n",
              "3     1.392111\n",
              "4     0.696056\n",
              "5     1.392111\n",
              "6     0.696056\n",
              "7     0.928074\n",
              "        ...   \n",
              "95    0.928074\n",
              "96    1.624130\n",
              "97    0.928074\n",
              "98    1.160093\n",
              "99    0.928074\n",
              "Name: clave, Length: 97, dtype: float64"
            ]
          },
          "metadata": {},
          "execution_count": 240
        }
      ]
    },
    {
      "cell_type": "code",
      "source": [
        "sns.histplot(df['digban'], bins=10, kde=True)"
      ],
      "metadata": {
        "id": "sHaCu1SfeYy3",
        "colab": {
          "base_uri": "https://localhost:8080/",
          "height": 467
        },
        "outputId": "bb2c63cc-7f3b-4690-9757-bb628f927544"
      },
      "execution_count": 241,
      "outputs": [
        {
          "output_type": "execute_result",
          "data": {
            "text/plain": [
              "<Axes: xlabel='digban', ylabel='Count'>"
            ]
          },
          "metadata": {},
          "execution_count": 241
        },
        {
          "output_type": "display_data",
          "data": {
            "text/plain": [
              "<Figure size 640x480 with 1 Axes>"
            ],
            "image/png": "[encoded data removed]"
          },
          "metadata": {}
        }
      ]
    },
    {
      "cell_type": "markdown",
      "source": [
        "Como se puede ver los valored de digban estan distribuidos muy uniformemente"
      ],
      "metadata": {
        "id": "WEzyaEua4SUQ"
      }
    },
    {
      "cell_type": "markdown",
      "source": [
        "###Columna Digito:"
      ],
      "metadata": {
        "id": "hofREc42ToOT"
      }
    },
    {
      "cell_type": "code",
      "source": [
        "df.groupby('digito').count()[\"clave\"] / 431 *100"
      ],
      "metadata": {
        "id": "RzJi_chNTw3N",
        "colab": {
          "base_uri": "https://localhost:8080/"
        },
        "outputId": "594eb20f-8806-40b6-8ab8-032aa688d564"
      },
      "execution_count": 242,
      "outputs": [
        {
          "output_type": "execute_result",
          "data": {
            "text/plain": [
              "digito\n",
              "0    99.535963\n",
              "1     0.232019\n",
              "5     0.232019\n",
              "Name: clave, dtype: float64"
            ]
          },
          "metadata": {},
          "execution_count": 242
        }
      ]
    },
    {
      "cell_type": "markdown",
      "source": [
        "Los valores atípicos de digito son 1 y 5"
      ],
      "metadata": {
        "id": "OjoVmL0xdXtR"
      }
    },
    {
      "cell_type": "code",
      "source": [
        "sns.barplot(x=[0,1,5], y=(df.groupby('digito').count()[\"clave\"] / 431 *100).tolist())\n",
        "plt.xticks(rotation=90)"
      ],
      "metadata": {
        "id": "TcBH6eMUeArM",
        "colab": {
          "base_uri": "https://localhost:8080/",
          "height": 443
        },
        "outputId": "10def19c-acca-46f7-84f3-0172916b78df"
      },
      "execution_count": 243,
      "outputs": [
        {
          "output_type": "execute_result",
          "data": {
            "text/plain": [
              "([0, 1, 2], [Text(0, 0, '0'), Text(1, 0, '1'), Text(2, 0, '5')])"
            ]
          },
          "metadata": {},
          "execution_count": 243
        },
        {
          "output_type": "display_data",
          "data": {
            "text/plain": [
              "<Figure size 640x480 with 1 Axes>"
            ],
            "image/png": "[encoded data removed]"
          },
          "metadata": {}
        }
      ]
    },
    {
      "cell_type": "markdown",
      "source": [
        "## - Análisis de estudiantes según el género"
      ],
      "metadata": {
        "id": "huZwQEGODXR1"
      }
    },
    {
      "cell_type": "code",
      "source": [
        "df.groupby('sexo').count()[\"clave\"] / 431 *100"
      ],
      "metadata": {
        "id": "i2emB6rCDk9w",
        "colab": {
          "base_uri": "https://localhost:8080/"
        },
        "outputId": "fb5c7d0f-db94-4989-cb5c-0e1f82ffb616"
      },
      "execution_count": 244,
      "outputs": [
        {
          "output_type": "execute_result",
          "data": {
            "text/plain": [
              "sexo\n",
              "F    48.491879\n",
              "M    51.508121\n",
              "Name: clave, dtype: float64"
            ]
          },
          "metadata": {},
          "execution_count": 244
        }
      ]
    },
    {
      "cell_type": "markdown",
      "source": [
        "**Análisis 12:**\n",
        "\n",
        "Como se puede visualizar el porcentaje tanto de niñas como varones es muy similar, siendo el género masculino aproximadamente un 3% mas que el genero femenino"
      ],
      "metadata": {
        "id": "5mE6Kz18EGCP"
      }
    },
    {
      "cell_type": "markdown",
      "source": [
        "## - Visualizacion en mapa"
      ],
      "metadata": {
        "id": "YT7lGToRvsb_"
      }
    },
    {
      "cell_type": "markdown",
      "metadata": {
        "id": "8K75d0QkhJnf"
      },
      "source": [
        "Procederé a usar las columnas \"coloa\", \"pobla\" y \"domal\" para realizar una visualizacion en mapas y tener una idea a nivel geografico de las direcciones con las que estamos trabajando"
      ]
    },
    {
      "cell_type": "code",
      "execution_count": 245,
      "metadata": {
        "id": "YF0xMSdoluzm"
      },
      "outputs": [],
      "source": [
        "# df['direccion_completa'] = df[\"coloa\"] + \", \" + df[\"pobla\"] + \", \" + df[\"domal\"]"
      ]
    },
    {
      "cell_type": "code",
      "execution_count": 246,
      "metadata": {
        "id": "PqLBjRVTb0jx"
      },
      "outputs": [],
      "source": [
        "import geocoder\n",
        "\n",
        "def get_coordinates_from_address(address: str):\n",
        "    \"\"\"\n",
        "    Obtiene las coordenadas geográficas (latitud y longitud) de una dirección en México.\n",
        "\n",
        "    Utiliza el servicio de geocodificación 'arcgis' de la biblioteca 'geocoder' para convertir\n",
        "    una dirección física en coordenadas geográficas. La función añade automáticamente \", Mexico.\"\n",
        "    al final de la dirección proporcionada para especificar que la búsqueda se realiza dentro de México.\n",
        "\n",
        "    Parámetros:\n",
        "    address (str): La dirección para la cual se desean obtener las coordenadas.\n",
        "\n",
        "    Retorna:\n",
        "    list: Una lista que contiene la latitud y la longitud de la dirección, o None si la geocodificación falla.\n",
        "\n",
        "    \"\"\"\n",
        "    # result = geocoder.arcgis(location=f\"{address}, Mexico.\")\n",
        "    # if result.ok:\n",
        "    #     lat, lon = result.latlng\n",
        "    #     return [lat, lon]\n",
        "    # else:\n",
        "    #     return None"
      ]
    },
    {
      "cell_type": "code",
      "execution_count": 247,
      "metadata": {
        "id": "raJtleUaftZA"
      },
      "outputs": [],
      "source": [
        "# def add_coordinates(row):\n",
        "#     return get_coordinates_from_address(row['direccion_completa'])\n",
        "\n",
        "\n",
        "# df['coordinates'] = df.apply(add_coordinates, axis=1)"
      ]
    },
    {
      "cell_type": "code",
      "execution_count": 248,
      "metadata": {
        "id": "DdlTaLQ8gTTw"
      },
      "outputs": [],
      "source": [
        "# df['coordinates']"
      ]
    },
    {
      "cell_type": "code",
      "execution_count": 249,
      "metadata": {
        "id": "VhJk0I0ygcdk"
      },
      "outputs": [],
      "source": [
        "# df[['lat','lon']] = pd.DataFrame(df.coordinates.tolist(), index= df.index)"
      ]
    },
    {
      "cell_type": "code",
      "execution_count": 250,
      "metadata": {
        "id": "Fe_GarAVhcDC"
      },
      "outputs": [],
      "source": [
        "# import plotly.express as px\n",
        "\n",
        "# fig = px.scatter_mapbox(df,\n",
        "#                         lat=\"lat\",\n",
        "#                         lon=\"lon\",\n",
        "#                         hover_name=\"domal\",\n",
        "#                         hover_data=[\"domal\", \"coloa\", \"pobla\"],\n",
        "#                         zoom=8,\n",
        "#                         height=800,\n",
        "#                         width=800)\n",
        "\n",
        "# fig.update_layout(mapbox_style=\"open-street-map\")\n",
        "# fig.update_layout(margin={\"r\":0,\"t\":0,\"l\":0,\"b\":0})\n",
        "# fig.show()"
      ]
    },
    {
      "cell_type": "markdown",
      "metadata": {
        "id": "hE2OFQB-nvrZ"
      },
      "source": [
        "## - Analisis descriptivo"
      ]
    },
    {
      "cell_type": "markdown",
      "metadata": {
        "id": "zR5tmFxmnk4r"
      },
      "source": [
        "Se procede a analizar un analisis descriptivo de las columnas numericas"
      ]
    },
    {
      "cell_type": "code",
      "execution_count": 251,
      "metadata": {
        "id": "lFcQBljVh7Zc"
      },
      "outputs": [],
      "source": [
        "# df.describe()"
      ]
    },
    {
      "cell_type": "markdown",
      "metadata": {
        "id": "ub0e6Vwln9t0"
      },
      "source": [
        "Como podemos observar se redujo considerablemente el numero de columnas, ya que este analisis solo toma en cuenta valores numericos"
      ]
    },
    {
      "cell_type": "markdown",
      "metadata": {
        "id": "jm_D_phsrocP"
      },
      "source": [
        "Adicionalmente se hizo una busqueda de alumnos cuya madre tuviera multiples padres, con el fin de saber si hay errores de digitacion o si la madre matriculo a varios de sus hijos con multiples padres en el mismo colegio (chisme)"
      ]
    },
    {
      "cell_type": "code",
      "execution_count": 252,
      "metadata": {
        "id": "jG4YhjWdn59r"
      },
      "outputs": [],
      "source": [
        "unique_pairs = df.groupby('madre')['padre'].nunique()\n",
        "non_paired_madre = unique_pairs[unique_pairs > 1].index\n",
        "\n",
        "result = df[df['madre'].isin(non_paired_madre)]"
      ]
    },
    {
      "cell_type": "code",
      "execution_count": 253,
      "metadata": {
        "id": "L4dR71YWr_xS"
      },
      "outputs": [],
      "source": [
        "# result[['madre', \"padre\", \"nombrea\"]]"
      ]
    },
    {
      "cell_type": "code",
      "execution_count": 254,
      "metadata": {
        "id": "a2HRm6CPnzJ0"
      },
      "outputs": [],
      "source": [
        "# print(result[['madre', \"padre\"]].tail(4))"
      ]
    },
    {
      "cell_type": "markdown",
      "source": [
        "Estos campos de nombres tanto de padres como de madres tienen más de 1 espacio entre si, procedo a modificarla"
      ],
      "metadata": {
        "id": "Njn6HnazTaZM"
      }
    },
    {
      "cell_type": "code",
      "execution_count": 255,
      "metadata": {
        "id": "nIUqV2-Dp8nv"
      },
      "outputs": [],
      "source": [
        "# df['madre'] = df['madre'].str.replace('  ', ' ', regex=True)\n",
        "# df['padre'] = df['padre'].str.replace(r'   ', ' ', regex=True)\n",
        "# print(result[['madre', \"padre\"]].tail(4))"
      ]
    },
    {
      "cell_type": "code",
      "execution_count": 256,
      "metadata": {
        "id": "d7r-P7Pcs09f"
      },
      "outputs": [],
      "source": [
        "unique_pairs = df.groupby('padre')['madre'].nunique()\n",
        "non_paired_padre = unique_pairs[unique_pairs > 1].index\n",
        "\n",
        "result = df[df['padre'].isin(non_paired_padre)]"
      ]
    },
    {
      "cell_type": "code",
      "execution_count": 257,
      "metadata": {
        "id": "0pWLzxtss44H"
      },
      "outputs": [],
      "source": [
        "# print(result[['madre', \"padre\", \"nombrea\"]].head(2))"
      ]
    },
    {
      "cell_type": "markdown",
      "metadata": {
        "id": "MfPE0COvty6I"
      },
      "source": [
        "Se hará un analisis de grupos de columnas que parecen categoricas"
      ]
    },
    {
      "cell_type": "code",
      "execution_count": 258,
      "metadata": {
        "id": "jl3xJIKDtZ-Y",
        "colab": {
          "base_uri": "https://localhost:8080/"
        },
        "outputId": "18685fa9-6ba4-4899-a68d-2d8bda18d11d"
      },
      "outputs": [
        {
          "output_type": "execute_result",
          "data": {
            "text/plain": [
              "plan\n",
              "A     0.232019\n",
              "B    99.767981\n",
              "Name: clave, dtype: float64"
            ]
          },
          "metadata": {},
          "execution_count": 258
        }
      ],
      "source": [
        "df.groupby('plan').count()[\"clave\"] / 431 *100"
      ]
    },
    {
      "cell_type": "markdown",
      "metadata": {
        "id": "5mzn18V5uCfe"
      },
      "source": [
        "Interesante que tan pocos estudiantes sean plan A, valdria la pena investigar mas a fondo el por que de esta segregacion"
      ]
    },
    {
      "cell_type": "code",
      "execution_count": 259,
      "metadata": {
        "id": "wHJRRu5Mt_Gy"
      },
      "outputs": [],
      "source": [
        "# df.groupby('escpro').count()[\"clave\"] / 431 *100"
      ]
    },
    {
      "cell_type": "markdown",
      "metadata": {
        "id": "fx2cFmF8ug8o"
      },
      "source": [
        "**11.Errores o datos faltantes encontrados:**\n",
        "\n",
        "Importante destacar que los errores de I mayuscula e i minuscula, asi como algunos caracteres erroneos suelen ser producto de una mala lectura por parte de un Optical character recognition (OCR).\n",
        "\n",
        "**13. Analisis realizado:**\n",
        "\n",
        "Por otro lado se encontro que COLEGIO1 es la clase predominante en los datos con mas del 78%"
      ]
    },
    {
      "cell_type": "markdown",
      "metadata": {
        "id": "UJgsTd8CMgCo"
      },
      "source": [
        "Se procede a arreglar los errores ocasionados por el OCR"
      ]
    },
    {
      "cell_type": "code",
      "source": [
        "# df['escpro']"
      ],
      "metadata": {
        "id": "XmRgKyI08f7I"
      },
      "execution_count": 260,
      "outputs": []
    },
    {
      "cell_type": "code",
      "execution_count": 261,
      "metadata": {
        "id": "kwuNp1UpMx6Q"
      },
      "outputs": [],
      "source": [
        "df.loc[df.escpro.isin([\"nuevo indreso\"]), \"escpro\"] = \"nuevo ingreso\"\n",
        "df.loc[df.escpro.isin([\"kimdergym \",\"kimdergym\", \"kundergym\", \"kindegym\"]), \"escpro\"] = \"kindergym\"\n",
        "df.loc[df.escpro.isin([\"cynthia cummingham e\"]), \"escpro\"] = \"cynthia cunningham e\"\n",
        "df.loc[df.escpro.isin([\"euro\", \"colegio euro\", \"euro texcoco\"]), \"escpro\"] = \"colegio euro texcoco\"\n",
        "df.loc[df.escpro.isin([\"panamericano\"]), \"escpro\"] = \"colegio panamericano\""
      ]
    },
    {
      "cell_type": "markdown",
      "source": [
        "Validamos que los errores se hayan arreglado:"
      ],
      "metadata": {
        "id": "_6LkyeWbL1-d"
      }
    },
    {
      "cell_type": "code",
      "source": [
        "# df.groupby('escpro').count()[\"clave\"] / 431 *100"
      ],
      "metadata": {
        "id": "crSz-nzsMBqW"
      },
      "execution_count": 262,
      "outputs": []
    },
    {
      "cell_type": "markdown",
      "source": [
        "Ahora se procede a hacer un rapido analisis de frecuencias sobre las 2 columnas tipo fecha 'Date_fechains' y 'Date_fecnaca'.(se excluyo la que tiene gran numero de nulos para no entorpecer el analisis)"
      ],
      "metadata": {
        "id": "9p9Q70YtowqQ"
      }
    },
    {
      "cell_type": "markdown",
      "source": [
        "Para este analisis se procede a primero ordenar los valores de cada columna correspondietne, para luego eliminar los valores nulos y calcular las diferencias entre fechas, luego se ordenan las diferencias de mayor a menor dando como resultado el hueco mas grande en terminos de dias entre fechas, esto me da una idea de que tan viejos y actualizados pueden estar los datos de fecha.\n",
        "\n",
        "Tambien se hace una agrupacion de fechas que muestre el conteo de registros correspondientes, para obtener cuantos registros suelen ingresar por dias"
      ],
      "metadata": {
        "id": "in0LEC8oo9c7"
      }
    },
    {
      "cell_type": "code",
      "execution_count": 263,
      "metadata": {
        "id": "PLzyIABewJ7P"
      },
      "outputs": [],
      "source": [
        "date_fechains_sorted = df['Date_fechains'].sort_values()\n",
        "date_fechains_diff = date_fechains_sorted.diff().dropna()\n",
        "date_fechains_biggest_gaps = date_fechains_diff.sort_values(ascending=False)\n",
        "\n",
        "date_fechains_freq = df['Date_fechains'].value_counts().sort_values(ascending=False)\n",
        "\n",
        "date_fecnaca_sorted = df['Date_fecnaca'].sort_values()\n",
        "date_fecnaca_diff = date_fecnaca_sorted.diff().dropna()\n",
        "date_fecnaca_biggest_gaps = date_fecnaca_diff.sort_values(ascending=False)\n",
        "\n",
        "date_fecnaca_freq = df['Date_fecnaca'].value_counts().sort_values(ascending=False)"
      ]
    },
    {
      "cell_type": "code",
      "execution_count": 264,
      "metadata": {
        "id": "IvskmzE2wrhu"
      },
      "outputs": [],
      "source": [
        "# print(date_fechains_biggest_gaps.head(10))"
      ]
    },
    {
      "cell_type": "markdown",
      "source": [
        "En el resultado se muestra los 10 espacios mas grandes entre fechas, siendo el mayor 61 días sin inserciones de datos lo cual podria corresponder a vacaciones"
      ],
      "metadata": {
        "id": "TY4HWnSjpZ3T"
      }
    },
    {
      "cell_type": "code",
      "execution_count": 265,
      "metadata": {
        "id": "xLWNe4ZWw5RQ",
        "colab": {
          "base_uri": "https://localhost:8080/"
        },
        "outputId": "c0cf9c13-60f7-4a3f-9777-d9941980fd76"
      },
      "outputs": [
        {
          "output_type": "stream",
          "name": "stdout",
          "text": [
            "Date_fechains\n",
            "2022-03-31    30\n",
            "2022-03-30    19\n",
            "2022-03-24    15\n",
            "2022-03-28    14\n",
            "2022-03-16    13\n",
            "2022-03-29    11\n",
            "2022-03-15    11\n",
            "2022-08-26    10\n",
            "2022-07-29     9\n",
            "2022-03-17     9\n",
            "Name: count, dtype: int64\n"
          ]
        }
      ],
      "source": [
        "print(date_fechains_freq.head(10))"
      ]
    },
    {
      "cell_type": "markdown",
      "source": [
        "En el resultado se muestra las 10 fechas en las cuales se hicieron mayor numero de inserciones, lo cual corresponde en gran parte a Marzo, esto puede indicar que marzo es fecha de matriculas e inscripciones"
      ],
      "metadata": {
        "id": "jeYKWlrQpsyf"
      }
    },
    {
      "cell_type": "code",
      "execution_count": 266,
      "metadata": {
        "id": "ay3IUcibw6K6",
        "colab": {
          "base_uri": "https://localhost:8080/"
        },
        "outputId": "5481b055-c2d3-46a2-eb2a-c8aa7cc4e142"
      },
      "outputs": [
        {
          "output_type": "stream",
          "name": "stdout",
          "text": [
            "1     2085 days\n",
            "9      274 days\n",
            "328    156 days\n",
            "106    120 days\n",
            "85     106 days\n",
            "430     92 days\n",
            "24      90 days\n",
            "255     84 days\n",
            "388     83 days\n",
            "365     78 days\n",
            "Name: Date_fecnaca, dtype: timedelta64[ns]\n"
          ]
        }
      ],
      "source": [
        "print(date_fecnaca_biggest_gaps.head(10))"
      ]
    },
    {
      "cell_type": "markdown",
      "source": [
        "En el resultado se muestra los 10 espacios mas grandes entre fechas, siendo el mayor 2085 días entre un nacimiento y el siguiente, esto bien puede corresponder a un error de digitacion ejemplo: 2022 vs 2002, o 2011 con 2001, es importante el estudio de dichos elementos atipicos para evaluar donde puede estar el error"
      ],
      "metadata": {
        "id": "2WWnhthHqUwn"
      }
    },
    {
      "cell_type": "code",
      "execution_count": 267,
      "metadata": {
        "id": "vhNL0-SMw-QN",
        "colab": {
          "base_uri": "https://localhost:8080/"
        },
        "outputId": "251bc50c-6cf6-49ea-af88-2e4d54026092"
      },
      "outputs": [
        {
          "output_type": "stream",
          "name": "stdout",
          "text": [
            "Date_fecnaca\n",
            "2009-10-02    2\n",
            "2010-12-15    2\n",
            "2019-08-08    2\n",
            "2008-04-30    2\n",
            "2022-08-17    2\n",
            "2013-07-15    2\n",
            "2017-11-17    2\n",
            "2011-06-14    2\n",
            "2013-04-21    2\n",
            "2015-09-01    2\n",
            "Name: count, dtype: int64\n"
          ]
        }
      ],
      "source": [
        "print(date_fecnaca_freq.head(10))"
      ]
    },
    {
      "cell_type": "markdown",
      "source": [
        "En el resultado se muestra las 10 fechas en las cuales se hicieron mayor numero de inserciones, y como se evidencia hay un comportamiento bastante uniforme, lo cual puede ser un poco raro ya que la distribuciones de cumpleaños no suele ser uniforme, sino que suele tener sesgos hacia septiembre y noviembre.\n",
        "\n",
        "Supongo que al incluir un conjunto de datos mas amplio se evidenciaran mas estos patrones"
      ],
      "metadata": {
        "id": "DeFXv5CpqrYp"
      }
    },
    {
      "cell_type": "markdown",
      "source": [
        "## -Analisis de edad"
      ],
      "metadata": {
        "id": "tZX7nKjKOiGY"
      }
    },
    {
      "cell_type": "code",
      "source": [
        "df.groupby('edad').count()[\"clave\"] / 431 *100"
      ],
      "metadata": {
        "id": "nHAN9NWWOjXn",
        "colab": {
          "base_uri": "https://localhost:8080/"
        },
        "outputId": "94ab3022-1712-4f5d-94c3-8dcf74b306e1"
      },
      "execution_count": 268,
      "outputs": [
        {
          "output_type": "execute_result",
          "data": {
            "text/plain": [
              "edad\n",
              "2.0      0.928074\n",
              "3.0      0.928074\n",
              "4.0      4.176334\n",
              "5.0      3.944316\n",
              "6.0      4.872390\n",
              "7.0      7.192575\n",
              "8.0     10.208817\n",
              "9.0      5.568445\n",
              "10.0     6.960557\n",
              "11.0     8.352668\n",
              "12.0     8.584687\n",
              "13.0     8.352668\n",
              "14.0     6.728538\n",
              "15.0     9.280742\n",
              "16.0    12.529002\n",
              "17.0     0.696056\n",
              "23.0     0.232019\n",
              "Name: clave, dtype: float64"
            ]
          },
          "metadata": {},
          "execution_count": 268
        }
      ]
    },
    {
      "cell_type": "markdown",
      "source": [
        "**14. Analisis realizado**\n",
        "\n",
        "Al evaluar el promedio de edad de los estudiantes del colegio, se puede evidenciar que hay 4 casos atípicos como estudiantes de 2,3,17,23.\n",
        "\n",
        "Se puede deber a errores de trasncripción, o en las edades mas altas, estudiantes que\n",
        "1- Se ha atrasado mucho en la colegiatura\n",
        "2- Es un dato de un estudiante 'graduado' que nunca actualizaron\n",
        "3- Un error de escritura/transcripcion\n"
      ],
      "metadata": {
        "id": "OsfifLaCO4wf"
      }
    },
    {
      "cell_type": "code",
      "source": [
        "plt.figure(figsize=(8, 6))\n",
        "plt.hist(df['edad'], bins=10, edgecolor='black', alpha=0.7)\n",
        "\n",
        "plt.title('Edades de los estudiantes')\n",
        "plt.xlabel('Edad')\n",
        "plt.ylabel('Frecuencia')\n",
        "plt.grid(True)"
      ],
      "metadata": {
        "id": "4q3Md4goP-j8",
        "colab": {
          "base_uri": "https://localhost:8080/",
          "height": 564
        },
        "outputId": "e35f717b-2f34-427b-b1af-46df37a2b7f5"
      },
      "execution_count": 269,
      "outputs": [
        {
          "output_type": "display_data",
          "data": {
            "text/plain": [
              "<Figure size 800x600 with 1 Axes>"
            ],
            "image/png": "[encoded data removed]"
          },
          "metadata": {}
        }
      ]
    },
    {
      "cell_type": "code",
      "source": [
        "df['edad'].astype('Int64', errors='ignore')"
      ],
      "metadata": {
        "id": "ubqQSMKQz4hE",
        "colab": {
          "base_uri": "https://localhost:8080/"
        },
        "outputId": "f76cee5b-225e-4b72-f184-2050496b04e4"
      },
      "execution_count": 270,
      "outputs": [
        {
          "output_type": "execute_result",
          "data": {
            "text/plain": [
              "0       6\n",
              "1      17\n",
              "2      11\n",
              "3      11\n",
              "4       6\n",
              "       ..\n",
              "426    15\n",
              "427    15\n",
              "428     4\n",
              "429     5\n",
              "430     3\n",
              "Name: edad, Length: 431, dtype: Int64"
            ]
          },
          "metadata": {},
          "execution_count": 270
        }
      ]
    },
    {
      "cell_type": "markdown",
      "source": [
        "**Analisis de matriz de correlacion**\n",
        "\n",
        "Ademas Aprovecho para hacer un analisis de correlacion entre las columnas numericas con fin de encontrar valores que suelen subir o descender en valor inversamente o proporcionalmente"
      ],
      "metadata": {
        "id": "fvBlPS38QJfv"
      }
    },
    {
      "cell_type": "code",
      "source": [
        "corr_matrix = df[[\"digito\", \"digban\",\t\"cpa\",\t\"nivel\",\t\"grado\",\t\"porcol\",\t\"porins\", \"edad\"]].corr()\n",
        "\n",
        "plt.figure(figsize=(10, 8))\n",
        "sns.heatmap(corr_matrix, annot=True, cmap='coolwarm', linewidths=0.5)\n",
        "plt.title('Correlation Matrix')\n",
        "plt.show()"
      ],
      "metadata": {
        "id": "3YI3F9UOQVFY",
        "colab": {
          "base_uri": "https://localhost:8080/",
          "height": 699
        },
        "outputId": "18048f94-d4b7-4ee5-fc77-636c147fda4a"
      },
      "execution_count": 271,
      "outputs": [
        {
          "output_type": "display_data",
          "data": {
            "text/plain": [
              "<Figure size 1000x800 with 2 Axes>"
            ],
            "image/png": "[encoded data removed]"
          },
          "metadata": {}
        }
      ]
    },
    {
      "cell_type": "markdown",
      "source": [
        "**14. Análisis realizado**\n",
        "\n",
        "Se puede evidenciar una correlación positiva (en este caso, 0.84) significa que a medida que edad aumenta, nivel tiende también a aumentar.\n",
        "\n",
        "Los valores altos de edad tienden a estar asociados con valores altos de nivel."
      ],
      "metadata": {
        "id": "7IqeIhKwSGHz"
      }
    },
    {
      "cell_type": "markdown",
      "source": [
        "Se procede a eliminar coordinates, lat y lon ya que no da información relevante para la base de datos del colegio de alumnos y padres"
      ],
      "metadata": {
        "id": "_AiNvXwdy-XM"
      }
    },
    {
      "cell_type": "code",
      "source": [
        "columnas_de_coordenadas = [\"coordinates\", \"lat\", \"lon\"]\n",
        "df = df.drop(columnas_de_coordenadas, axis=1)\n",
        "len(df.columns)"
      ],
      "metadata": {
        "id": "iy6zN8ctzGnu",
        "colab": {
          "base_uri": "https://localhost:8080/",
          "height": 335
        },
        "outputId": "e961cfae-6f88-4d8c-9d39-76534612968e"
      },
      "execution_count": 272,
      "outputs": [
        {
          "output_type": "error",
          "ename": "KeyError",
          "evalue": "\"['coordinates', 'lat', 'lon'] not found in axis\"",
          "traceback": [
            "\u001b[0;31m---------------------------------------------------------------------------\u001b[0m",
            "\u001b[0;31mKeyError\u001b[0m                                  Traceback (most recent call last)",
            "\u001b[0;32m<ipython-input-272-a4a61866bd80>\u001b[0m in \u001b[0;36m<cell line: 2>\u001b[0;34m()\u001b[0m\n\u001b[1;32m      1\u001b[0m \u001b[0mcolumnas_de_coordenadas\u001b[0m \u001b[0;34m=\u001b[0m \u001b[0;34m[\u001b[0m\u001b[0;34m\"coordinates\"\u001b[0m\u001b[0;34m,\u001b[0m \u001b[0;34m\"lat\"\u001b[0m\u001b[0;34m,\u001b[0m \u001b[0;34m\"lon\"\u001b[0m\u001b[0;34m]\u001b[0m\u001b[0;34m\u001b[0m\u001b[0;34m\u001b[0m\u001b[0m\n\u001b[0;32m----> 2\u001b[0;31m \u001b[0mdf\u001b[0m \u001b[0;34m=\u001b[0m \u001b[0mdf\u001b[0m\u001b[0;34m.\u001b[0m\u001b[0mdrop\u001b[0m\u001b[0;34m(\u001b[0m\u001b[0mcolumnas_de_coordenadas\u001b[0m\u001b[0;34m,\u001b[0m \u001b[0maxis\u001b[0m\u001b[0;34m=\u001b[0m\u001b[0;36m1\u001b[0m\u001b[0;34m)\u001b[0m\u001b[0;34m\u001b[0m\u001b[0;34m\u001b[0m\u001b[0m\n\u001b[0m\u001b[1;32m      3\u001b[0m \u001b[0mlen\u001b[0m\u001b[0;34m(\u001b[0m\u001b[0mdf\u001b[0m\u001b[0;34m.\u001b[0m\u001b[0mcolumns\u001b[0m\u001b[0;34m)\u001b[0m\u001b[0;34m\u001b[0m\u001b[0;34m\u001b[0m\u001b[0m\n",
            "\u001b[0;32m/usr/local/lib/python3.10/dist-packages/pandas/core/frame.py\u001b[0m in \u001b[0;36mdrop\u001b[0;34m(self, labels, axis, index, columns, level, inplace, errors)\u001b[0m\n\u001b[1;32m   5256\u001b[0m                 \u001b[0mweight\u001b[0m  \u001b[0;36m1.0\u001b[0m     \u001b[0;36m0.8\u001b[0m\u001b[0;34m\u001b[0m\u001b[0;34m\u001b[0m\u001b[0m\n\u001b[1;32m   5257\u001b[0m         \"\"\"\n\u001b[0;32m-> 5258\u001b[0;31m         return super().drop(\n\u001b[0m\u001b[1;32m   5259\u001b[0m             \u001b[0mlabels\u001b[0m\u001b[0;34m=\u001b[0m\u001b[0mlabels\u001b[0m\u001b[0;34m,\u001b[0m\u001b[0;34m\u001b[0m\u001b[0;34m\u001b[0m\u001b[0m\n\u001b[1;32m   5260\u001b[0m             \u001b[0maxis\u001b[0m\u001b[0;34m=\u001b[0m\u001b[0maxis\u001b[0m\u001b[0;34m,\u001b[0m\u001b[0;34m\u001b[0m\u001b[0;34m\u001b[0m\u001b[0m\n",
            "\u001b[0;32m/usr/local/lib/python3.10/dist-packages/pandas/core/generic.py\u001b[0m in \u001b[0;36mdrop\u001b[0;34m(self, labels, axis, index, columns, level, inplace, errors)\u001b[0m\n\u001b[1;32m   4547\u001b[0m         \u001b[0;32mfor\u001b[0m \u001b[0maxis\u001b[0m\u001b[0;34m,\u001b[0m \u001b[0mlabels\u001b[0m \u001b[0;32min\u001b[0m \u001b[0maxes\u001b[0m\u001b[0;34m.\u001b[0m\u001b[0mitems\u001b[0m\u001b[0;34m(\u001b[0m\u001b[0;34m)\u001b[0m\u001b[0;34m:\u001b[0m\u001b[0;34m\u001b[0m\u001b[0;34m\u001b[0m\u001b[0m\n\u001b[1;32m   4548\u001b[0m             \u001b[0;32mif\u001b[0m \u001b[0mlabels\u001b[0m \u001b[0;32mis\u001b[0m \u001b[0;32mnot\u001b[0m \u001b[0;32mNone\u001b[0m\u001b[0;34m:\u001b[0m\u001b[0;34m\u001b[0m\u001b[0;34m\u001b[0m\u001b[0m\n\u001b[0;32m-> 4549\u001b[0;31m                 \u001b[0mobj\u001b[0m \u001b[0;34m=\u001b[0m \u001b[0mobj\u001b[0m\u001b[0;34m.\u001b[0m\u001b[0m_drop_axis\u001b[0m\u001b[0;34m(\u001b[0m\u001b[0mlabels\u001b[0m\u001b[0;34m,\u001b[0m \u001b[0maxis\u001b[0m\u001b[0;34m,\u001b[0m \u001b[0mlevel\u001b[0m\u001b[0;34m=\u001b[0m\u001b[0mlevel\u001b[0m\u001b[0;34m,\u001b[0m \u001b[0merrors\u001b[0m\u001b[0;34m=\u001b[0m\u001b[0merrors\u001b[0m\u001b[0;34m)\u001b[0m\u001b[0;34m\u001b[0m\u001b[0;34m\u001b[0m\u001b[0m\n\u001b[0m\u001b[1;32m   4550\u001b[0m \u001b[0;34m\u001b[0m\u001b[0m\n\u001b[1;32m   4551\u001b[0m         \u001b[0;32mif\u001b[0m \u001b[0minplace\u001b[0m\u001b[0;34m:\u001b[0m\u001b[0;34m\u001b[0m\u001b[0;34m\u001b[0m\u001b[0m\n",
            "\u001b[0;32m/usr/local/lib/python3.10/dist-packages/pandas/core/generic.py\u001b[0m in \u001b[0;36m_drop_axis\u001b[0;34m(self, labels, axis, level, errors, only_slice)\u001b[0m\n\u001b[1;32m   4589\u001b[0m                 \u001b[0mnew_axis\u001b[0m \u001b[0;34m=\u001b[0m \u001b[0maxis\u001b[0m\u001b[0;34m.\u001b[0m\u001b[0mdrop\u001b[0m\u001b[0;34m(\u001b[0m\u001b[0mlabels\u001b[0m\u001b[0;34m,\u001b[0m \u001b[0mlevel\u001b[0m\u001b[0;34m=\u001b[0m\u001b[0mlevel\u001b[0m\u001b[0;34m,\u001b[0m \u001b[0merrors\u001b[0m\u001b[0;34m=\u001b[0m\u001b[0merrors\u001b[0m\u001b[0;34m)\u001b[0m\u001b[0;34m\u001b[0m\u001b[0;34m\u001b[0m\u001b[0m\n\u001b[1;32m   4590\u001b[0m             \u001b[0;32melse\u001b[0m\u001b[0;34m:\u001b[0m\u001b[0;34m\u001b[0m\u001b[0;34m\u001b[0m\u001b[0m\n\u001b[0;32m-> 4591\u001b[0;31m                 \u001b[0mnew_axis\u001b[0m \u001b[0;34m=\u001b[0m \u001b[0maxis\u001b[0m\u001b[0;34m.\u001b[0m\u001b[0mdrop\u001b[0m\u001b[0;34m(\u001b[0m\u001b[0mlabels\u001b[0m\u001b[0;34m,\u001b[0m \u001b[0merrors\u001b[0m\u001b[0;34m=\u001b[0m\u001b[0merrors\u001b[0m\u001b[0;34m)\u001b[0m\u001b[0;34m\u001b[0m\u001b[0;34m\u001b[0m\u001b[0m\n\u001b[0m\u001b[1;32m   4592\u001b[0m             \u001b[0mindexer\u001b[0m \u001b[0;34m=\u001b[0m \u001b[0maxis\u001b[0m\u001b[0;34m.\u001b[0m\u001b[0mget_indexer\u001b[0m\u001b[0;34m(\u001b[0m\u001b[0mnew_axis\u001b[0m\u001b[0;34m)\u001b[0m\u001b[0;34m\u001b[0m\u001b[0;34m\u001b[0m\u001b[0m\n\u001b[1;32m   4593\u001b[0m \u001b[0;34m\u001b[0m\u001b[0m\n",
            "\u001b[0;32m/usr/local/lib/python3.10/dist-packages/pandas/core/indexes/base.py\u001b[0m in \u001b[0;36mdrop\u001b[0;34m(self, labels, errors)\u001b[0m\n\u001b[1;32m   6697\u001b[0m         \u001b[0;32mif\u001b[0m \u001b[0mmask\u001b[0m\u001b[0;34m.\u001b[0m\u001b[0many\u001b[0m\u001b[0;34m(\u001b[0m\u001b[0;34m)\u001b[0m\u001b[0;34m:\u001b[0m\u001b[0;34m\u001b[0m\u001b[0;34m\u001b[0m\u001b[0m\n\u001b[1;32m   6698\u001b[0m             \u001b[0;32mif\u001b[0m \u001b[0merrors\u001b[0m \u001b[0;34m!=\u001b[0m \u001b[0;34m\"ignore\"\u001b[0m\u001b[0;34m:\u001b[0m\u001b[0;34m\u001b[0m\u001b[0;34m\u001b[0m\u001b[0m\n\u001b[0;32m-> 6699\u001b[0;31m                 \u001b[0;32mraise\u001b[0m \u001b[0mKeyError\u001b[0m\u001b[0;34m(\u001b[0m\u001b[0;34mf\"{list(labels[mask])} not found in axis\"\u001b[0m\u001b[0;34m)\u001b[0m\u001b[0;34m\u001b[0m\u001b[0;34m\u001b[0m\u001b[0m\n\u001b[0m\u001b[1;32m   6700\u001b[0m             \u001b[0mindexer\u001b[0m \u001b[0;34m=\u001b[0m \u001b[0mindexer\u001b[0m\u001b[0;34m[\u001b[0m\u001b[0;34m~\u001b[0m\u001b[0mmask\u001b[0m\u001b[0;34m]\u001b[0m\u001b[0;34m\u001b[0m\u001b[0;34m\u001b[0m\u001b[0m\n\u001b[1;32m   6701\u001b[0m         \u001b[0;32mreturn\u001b[0m \u001b[0mself\u001b[0m\u001b[0;34m.\u001b[0m\u001b[0mdelete\u001b[0m\u001b[0;34m(\u001b[0m\u001b[0mindexer\u001b[0m\u001b[0;34m)\u001b[0m\u001b[0;34m\u001b[0m\u001b[0;34m\u001b[0m\u001b[0m\n",
            "\u001b[0;31mKeyError\u001b[0m: \"['coordinates', 'lat', 'lon'] not found in axis\""
          ]
        }
      ]
    },
    {
      "cell_type": "markdown",
      "source": [
        "#-Arreglo de nombres de columnas"
      ],
      "metadata": {
        "id": "x0DRoo4p8tRM"
      }
    },
    {
      "cell_type": "code",
      "source": [
        "# df.rename(columns={\"nombrea\":\"nombre_estudiante\", \"Date_fecnaca\":\"fecha_nacimiento\",\"Date_fechains\":\"fecha_inscripcion\",\"Date_fechbaja\":\"fecha_retiro\",\"domal\":\"direccion\",\"naciona\":\"nacionalidad\", \"coloa\":\"localidad\",\"pobla\":\"poblado\", \"emailm_corregido\":\"email_madre\", \"emprem\":\"empresa_madre\" ,\"ocupam\": \"ocupacion_madre\", \"celularm\": \"celular_madre\", \"telofm\":\"telefono_madre\",\"emailp_corregido\":\"email_padre\", \"ocupap\": \"ocupacion_padre\", \"celularp\": \"celular_padre\",\"escpro\":\"escuela\" , \"tela\":\"telefono_estudiante\",\"telofp\":\"telefono_padre\",\"Date_fechnaca\":\"fecha_nacimiento\", \"pedi\": \"pediatra\", \"telpedi\": \"telefono_pediatra\", \"emprep\":\"empresa_padre\"})"
      ],
      "metadata": {
        "id": "4mGA4qAxxpl8"
      },
      "execution_count": null,
      "outputs": []
    }
  ],
  "metadata": {
    "colab": {
      "provenance": [],
      "collapsed_sections": [
        "sA5uCbGX4i4A",
        "2RGyLE3TVM-e",
        "oiZZ03xyhUck",
        "OG4C5vTGfbwm",
        "-ciiaquQpmfq",
        "-nD8GJZIuCLb",
        "bNLsZFyUCJZb",
        "hNO6kmEEEg7h",
        "D2N3NTy7Ouc_",
        "jKzrsbvwOpWG",
        "lGIRuwyACWq8",
        "bZ57R-tQlEs3",
        "6zcrdm81kFQa",
        "F9BH_QQiA6x0",
        "YJg6NG8DS0G6",
        "hofREc42ToOT",
        "YT7lGToRvsb_",
        "hE2OFQB-nvrZ"
      ]
    },
    "kernelspec": {
      "display_name": "Python 3",
      "name": "python3"
    },
    "language_info": {
      "name": "python"
    }
  },
  "nbformat": 4,
  "nbformat_minor": 0
}